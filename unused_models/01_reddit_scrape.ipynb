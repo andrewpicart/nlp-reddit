{
 "cells": [
  {
   "cell_type": "code",
   "execution_count": 1,
   "metadata": {},
   "outputs": [],
   "source": [
    "import requests, json, time, re\n",
    "import pandas as pd\n",
    "import numpy as np\n",
    "from sklearn.feature_extraction.text import TfidfVectorizer\n",
    "from sklearn.ensemble import RandomForestClassifier\n",
    "from sklearn.model_selection import train_test_split, GridSearchCV\n",
    "import matplotlib.pyplot as plt"
   ]
  },
  {
   "cell_type": "code",
   "execution_count": 2,
   "metadata": {},
   "outputs": [],
   "source": [
    "sub_all = '/top.json?t=all'\n",
    "sub_gilded = '/gilded.json'\n",
    "sub_hot = '.json'"
   ]
  },
  {
   "cell_type": "code",
   "execution_count": 3,
   "metadata": {},
   "outputs": [],
   "source": [
    "sub_new = '/new.json'"
   ]
  },
  {
   "cell_type": "code",
   "execution_count": 4,
   "metadata": {},
   "outputs": [],
   "source": [
    "# adapted code for Adi\n",
    "# posts is the returned dictionary (should pass in previously ran `posts`)\n",
    "# subreddit = url string \n",
    "# subpage = the page on the subreddit (should be already defined)\n",
    "def sub_query(subreddit, subpage, posts=None, pages=40):\n",
    "    \n",
    "    #Step 0: set initial conditions\n",
    "    if posts == None:\n",
    "        posts = []\n",
    "    else:\n",
    "        posts = posts\n",
    "    url = f'https://old.reddit.com/r/{subreddit}{subpage}'\n",
    "    after = None\n",
    "\n",
    "    #Step 1: build the loop and print URL\n",
    "    for _ in range(pages):\n",
    "        if after == None:\n",
    "            current_url = url\n",
    "        elif subpage == '/top.json?t=all':\n",
    "            current_url = url + '&after=' + after\n",
    "        else:\n",
    "            current_url = url + '?count=25&after=' + after\n",
    "\n",
    "        print(current_url)\n",
    "\n",
    "        #Step 2a: make the requests and handle status code. Add time.sleep now (2.b)\n",
    "        res = requests.get(current_url, headers={'User-agent': 'hehehehe'})\n",
    "\n",
    "        if res.status_code != 200:\n",
    "            print('Status error', res.status_code)\n",
    "            break\n",
    "\n",
    "        #Step 3: Actually deal with the data   \n",
    "        current_dict = res.json()\n",
    "        current_posts = [p['data'] for p in current_dict['data']['children']]\n",
    "        posts.extend(current_posts)\n",
    "\n",
    "        after = current_dict['data']['after']\n",
    "\n",
    "        #Step 2b:\n",
    "        time.sleep(0.75)\n",
    "\n",
    "    return posts"
   ]
  },
  {
   "cell_type": "code",
   "execution_count": 5,
   "metadata": {},
   "outputs": [
    {
     "name": "stdout",
     "output_type": "stream",
     "text": [
      "https://old.reddit.com/r/explainlikeimfive/top.json?t=all\n",
      "https://old.reddit.com/r/explainlikeimfive/top.json?t=all&after=t3_6pfe0k\n",
      "https://old.reddit.com/r/explainlikeimfive/top.json?t=all&after=t3_6m4neu\n",
      "https://old.reddit.com/r/explainlikeimfive/top.json?t=all&after=t3_6de844\n",
      "https://old.reddit.com/r/explainlikeimfive/top.json?t=all&after=t3_6c5e97\n",
      "https://old.reddit.com/r/explainlikeimfive/top.json?t=all&after=t3_707jhj\n",
      "https://old.reddit.com/r/explainlikeimfive/top.json?t=all&after=t3_67msip\n",
      "https://old.reddit.com/r/explainlikeimfive/top.json?t=all&after=t3_5m9asi\n",
      "https://old.reddit.com/r/explainlikeimfive/top.json?t=all&after=t3_7482ri\n",
      "https://old.reddit.com/r/explainlikeimfive/top.json?t=all&after=t3_6tfs11\n",
      "https://old.reddit.com/r/explainlikeimfive/top.json?t=all&after=t3_60mib5\n",
      "https://old.reddit.com/r/explainlikeimfive/top.json?t=all&after=t3_9tbb6a\n",
      "https://old.reddit.com/r/explainlikeimfive/top.json?t=all&after=t3_atcf5o\n",
      "https://old.reddit.com/r/explainlikeimfive/top.json?t=all&after=t3_7c1um3\n",
      "https://old.reddit.com/r/explainlikeimfive/top.json?t=all&after=t3_5jao7u\n",
      "https://old.reddit.com/r/explainlikeimfive/top.json?t=all&after=t3_633nsg\n",
      "https://old.reddit.com/r/explainlikeimfive/top.json?t=all&after=t3_686apn\n",
      "https://old.reddit.com/r/explainlikeimfive/top.json?t=all&after=t3_9xab7q\n",
      "https://old.reddit.com/r/explainlikeimfive/top.json?t=all&after=t3_618qhj\n",
      "https://old.reddit.com/r/explainlikeimfive/top.json?t=all&after=t3_8ivlyy\n",
      "https://old.reddit.com/r/explainlikeimfive/top.json?t=all&after=t3_6mdsvs\n",
      "https://old.reddit.com/r/explainlikeimfive/top.json?t=all&after=t3_br8riy\n",
      "https://old.reddit.com/r/explainlikeimfive/top.json?t=all&after=t3_7qa4lm\n",
      "https://old.reddit.com/r/explainlikeimfive/top.json?t=all&after=t3_46v38h\n",
      "https://old.reddit.com/r/explainlikeimfive/top.json?t=all&after=t3_5mkhth\n",
      "https://old.reddit.com/r/explainlikeimfive/top.json?t=all&after=t3_4qpcj0\n",
      "https://old.reddit.com/r/explainlikeimfive/top.json?t=all&after=t3_8ri9yn\n",
      "https://old.reddit.com/r/explainlikeimfive/top.json?t=all&after=t3_5jox3y\n",
      "https://old.reddit.com/r/explainlikeimfive/top.json?t=all&after=t3_9agylr\n",
      "https://old.reddit.com/r/explainlikeimfive/top.json?t=all&after=t3_8xsiq8\n",
      "https://old.reddit.com/r/explainlikeimfive/top.json?t=all&after=t3_5llk9q\n",
      "https://old.reddit.com/r/explainlikeimfive/top.json?t=all&after=t3_2gy4qj\n",
      "https://old.reddit.com/r/explainlikeimfive/top.json?t=all&after=t3_45rgm3\n",
      "https://old.reddit.com/r/explainlikeimfive/top.json?t=all&after=t3_6k16sr\n",
      "https://old.reddit.com/r/explainlikeimfive/top.json?t=all&after=t3_62s4yp\n",
      "https://old.reddit.com/r/explainlikeimfive/top.json?t=all&after=t3_4iup1h\n",
      "https://old.reddit.com/r/explainlikeimfive/top.json?t=all&after=t3_4k5ave\n",
      "https://old.reddit.com/r/explainlikeimfive/top.json?t=all&after=t3_4j0dvt\n",
      "https://old.reddit.com/r/explainlikeimfive/top.json?t=all\n",
      "https://old.reddit.com/r/explainlikeimfive/top.json?t=all&after=t3_6pfe0k\n"
     ]
    }
   ],
   "source": [
    "eli5 = sub_query('explainlikeimfive', sub_all)"
   ]
  },
  {
   "cell_type": "code",
   "execution_count": 6,
   "metadata": {},
   "outputs": [
    {
     "name": "stdout",
     "output_type": "stream",
     "text": [
      "https://old.reddit.com/r/explainlikeimfive.json\n",
      "https://old.reddit.com/r/explainlikeimfive.json?count=25&after=t3_cbmw88\n",
      "https://old.reddit.com/r/explainlikeimfive.json?count=25&after=t3_cbozix\n",
      "https://old.reddit.com/r/explainlikeimfive.json?count=25&after=t3_cbmqro\n",
      "https://old.reddit.com/r/explainlikeimfive.json?count=25&after=t3_cbjizb\n",
      "https://old.reddit.com/r/explainlikeimfive.json?count=25&after=t3_cbftrk\n",
      "https://old.reddit.com/r/explainlikeimfive.json?count=25&after=t3_cb8mdj\n",
      "https://old.reddit.com/r/explainlikeimfive.json?count=25&after=t3_cb71xn\n",
      "https://old.reddit.com/r/explainlikeimfive.json?count=25&after=t3_cb2ycb\n",
      "https://old.reddit.com/r/explainlikeimfive.json?count=25&after=t3_cazdmv\n",
      "https://old.reddit.com/r/explainlikeimfive.json?count=25&after=t3_catb9m\n",
      "https://old.reddit.com/r/explainlikeimfive.json?count=25&after=t3_cau0ud\n",
      "https://old.reddit.com/r/explainlikeimfive.json?count=25&after=t3_caq8ue\n",
      "https://old.reddit.com/r/explainlikeimfive.json?count=25&after=t3_cahdeu\n",
      "https://old.reddit.com/r/explainlikeimfive.json?count=25&after=t3_camv7a\n",
      "https://old.reddit.com/r/explainlikeimfive.json?count=25&after=t3_caazec\n",
      "https://old.reddit.com/r/explainlikeimfive.json?count=25&after=t3_cab1n8\n",
      "https://old.reddit.com/r/explainlikeimfive.json?count=25&after=t3_ca7do1\n",
      "https://old.reddit.com/r/explainlikeimfive.json?count=25&after=t3_ca27ok\n",
      "https://old.reddit.com/r/explainlikeimfive.json?count=25&after=t3_c9zjnd\n",
      "https://old.reddit.com/r/explainlikeimfive.json?count=25&after=t3_c9u94a\n",
      "https://old.reddit.com/r/explainlikeimfive.json?count=25&after=t3_c9lqt8\n",
      "https://old.reddit.com/r/explainlikeimfive.json\n",
      "https://old.reddit.com/r/explainlikeimfive.json?count=25&after=t3_cbmw88\n",
      "https://old.reddit.com/r/explainlikeimfive.json?count=25&after=t3_cbozix\n",
      "https://old.reddit.com/r/explainlikeimfive.json?count=25&after=t3_cbmqro\n",
      "https://old.reddit.com/r/explainlikeimfive.json?count=25&after=t3_cbjizb\n",
      "https://old.reddit.com/r/explainlikeimfive.json?count=25&after=t3_cbftrk\n",
      "https://old.reddit.com/r/explainlikeimfive.json?count=25&after=t3_cb8mdj\n",
      "https://old.reddit.com/r/explainlikeimfive.json?count=25&after=t3_cb71xn\n",
      "https://old.reddit.com/r/explainlikeimfive.json?count=25&after=t3_cb2ycb\n",
      "https://old.reddit.com/r/explainlikeimfive.json?count=25&after=t3_cazdmv\n",
      "https://old.reddit.com/r/explainlikeimfive.json?count=25&after=t3_catb9m\n",
      "https://old.reddit.com/r/explainlikeimfive.json?count=25&after=t3_cau0ud\n",
      "https://old.reddit.com/r/explainlikeimfive.json?count=25&after=t3_caq8ue\n",
      "https://old.reddit.com/r/explainlikeimfive.json?count=25&after=t3_cahdeu\n",
      "https://old.reddit.com/r/explainlikeimfive.json?count=25&after=t3_camv7a\n",
      "https://old.reddit.com/r/explainlikeimfive.json?count=25&after=t3_caazec\n",
      "https://old.reddit.com/r/explainlikeimfive.json?count=25&after=t3_cab1n8\n",
      "https://old.reddit.com/r/explainlikeimfive.json?count=25&after=t3_ca7do1\n"
     ]
    }
   ],
   "source": [
    "eli5 = sub_query('explainlikeimfive', sub_hot, eli5)"
   ]
  },
  {
   "cell_type": "code",
   "execution_count": 7,
   "metadata": {},
   "outputs": [
    {
     "name": "stdout",
     "output_type": "stream",
     "text": [
      "https://old.reddit.com/r/explainlikeimfive/new.json\n",
      "https://old.reddit.com/r/explainlikeimfive/new.json?count=25&after=t3_cbo6qv\n",
      "https://old.reddit.com/r/explainlikeimfive/new.json?count=25&after=t3_cblvpv\n",
      "https://old.reddit.com/r/explainlikeimfive/new.json?count=25&after=t3_cbjfx8\n",
      "https://old.reddit.com/r/explainlikeimfive/new.json?count=25&after=t3_cbgn73\n",
      "https://old.reddit.com/r/explainlikeimfive/new.json?count=25&after=t3_cbcld7\n",
      "https://old.reddit.com/r/explainlikeimfive/new.json?count=25&after=t3_cb8syq\n",
      "https://old.reddit.com/r/explainlikeimfive/new.json?count=25&after=t3_cb5fq9\n",
      "https://old.reddit.com/r/explainlikeimfive/new.json?count=25&after=t3_cb1q2d\n",
      "https://old.reddit.com/r/explainlikeimfive/new.json?count=25&after=t3_caxy08\n",
      "https://old.reddit.com/r/explainlikeimfive/new.json?count=25&after=t3_cau0ud\n",
      "https://old.reddit.com/r/explainlikeimfive/new.json?count=25&after=t3_caqsbi\n",
      "https://old.reddit.com/r/explainlikeimfive/new.json?count=25&after=t3_camqyc\n",
      "https://old.reddit.com/r/explainlikeimfive/new.json?count=25&after=t3_caiu7x\n",
      "https://old.reddit.com/r/explainlikeimfive/new.json?count=25&after=t3_cafskc\n",
      "https://old.reddit.com/r/explainlikeimfive/new.json?count=25&after=t3_caciy6\n",
      "https://old.reddit.com/r/explainlikeimfive/new.json?count=25&after=t3_ca8hk2\n",
      "https://old.reddit.com/r/explainlikeimfive/new.json?count=25&after=t3_ca3zoq\n",
      "https://old.reddit.com/r/explainlikeimfive/new.json?count=25&after=t3_ca0c2j\n",
      "https://old.reddit.com/r/explainlikeimfive/new.json?count=25&after=t3_c9w30v\n",
      "https://old.reddit.com/r/explainlikeimfive/new.json?count=25&after=t3_c9r6fe\n",
      "https://old.reddit.com/r/explainlikeimfive/new.json?count=25&after=t3_c9oy8z\n",
      "https://old.reddit.com/r/explainlikeimfive/new.json?count=25&after=t3_c9mbvz\n",
      "https://old.reddit.com/r/explainlikeimfive/new.json?count=25&after=t3_c9i76p\n",
      "https://old.reddit.com/r/explainlikeimfive/new.json?count=25&after=t3_c9dh67\n",
      "https://old.reddit.com/r/explainlikeimfive/new.json?count=25&after=t3_c99i53\n",
      "https://old.reddit.com/r/explainlikeimfive/new.json?count=25&after=t3_c95bb9\n",
      "https://old.reddit.com/r/explainlikeimfive/new.json?count=25&after=t3_c91fpv\n",
      "https://old.reddit.com/r/explainlikeimfive/new.json?count=25&after=t3_c8wlmh\n",
      "https://old.reddit.com/r/explainlikeimfive/new.json?count=25&after=t3_c8u38i\n",
      "https://old.reddit.com/r/explainlikeimfive/new.json?count=25&after=t3_c8s5sl\n",
      "https://old.reddit.com/r/explainlikeimfive/new.json?count=25&after=t3_c8prdv\n",
      "https://old.reddit.com/r/explainlikeimfive/new.json?count=25&after=t3_c8lx1p\n",
      "https://old.reddit.com/r/explainlikeimfive/new.json?count=25&after=t3_c8j8fy\n",
      "https://old.reddit.com/r/explainlikeimfive/new.json?count=25&after=t3_c8gk7e\n",
      "https://old.reddit.com/r/explainlikeimfive/new.json?count=25&after=t3_c8bumn\n",
      "https://old.reddit.com/r/explainlikeimfive/new.json?count=25&after=t3_c85uw0\n",
      "https://old.reddit.com/r/explainlikeimfive/new.json?count=25&after=t3_c81zd1\n",
      "https://old.reddit.com/r/explainlikeimfive/new.json?count=25&after=t3_c7rh2q\n",
      "https://old.reddit.com/r/explainlikeimfive/new.json?count=25&after=t3_c7n8j2\n"
     ]
    }
   ],
   "source": [
    "eli5 = sub_query('explainlikeimfive', sub_new, eli5)"
   ]
  },
  {
   "cell_type": "code",
   "execution_count": 8,
   "metadata": {},
   "outputs": [],
   "source": [
    "def combine_text(posts):\n",
    "    return[' '.join([post['title'], post['selftext']]) for post in posts] # build this out to a function"
   ]
  },
  {
   "cell_type": "code",
   "execution_count": 9,
   "metadata": {},
   "outputs": [
    {
     "name": "stdout",
     "output_type": "stream",
     "text": [
      "https://old.reddit.com/r/NoStupidQuestions/top.json?t=all\n",
      "https://old.reddit.com/r/NoStupidQuestions/top.json?t=all&after=t3_acjhwt\n",
      "https://old.reddit.com/r/NoStupidQuestions/top.json?t=all&after=t3_a7ameq\n",
      "https://old.reddit.com/r/NoStupidQuestions/top.json?t=all&after=t3_ae9guo\n",
      "https://old.reddit.com/r/NoStupidQuestions/top.json?t=all&after=t3_b8sgjd\n",
      "https://old.reddit.com/r/NoStupidQuestions/top.json?t=all&after=t3_atdter\n",
      "https://old.reddit.com/r/NoStupidQuestions/top.json?t=all&after=t3_amocyi\n",
      "https://old.reddit.com/r/NoStupidQuestions/top.json?t=all&after=t3_abthzm\n",
      "https://old.reddit.com/r/NoStupidQuestions/top.json?t=all&after=t3_c8m5dz\n",
      "https://old.reddit.com/r/NoStupidQuestions/top.json?t=all&after=t3_bsf9w0\n",
      "https://old.reddit.com/r/NoStupidQuestions/top.json?t=all&after=t3_a30ky9\n",
      "https://old.reddit.com/r/NoStupidQuestions/top.json?t=all&after=t3_b5ez15\n",
      "https://old.reddit.com/r/NoStupidQuestions/top.json?t=all&after=t3_7sv9yn\n",
      "https://old.reddit.com/r/NoStupidQuestions/top.json?t=all&after=t3_9solap\n",
      "https://old.reddit.com/r/NoStupidQuestions/top.json?t=all&after=t3_bmvfgg\n",
      "https://old.reddit.com/r/NoStupidQuestions/top.json?t=all&after=t3_au6h8h\n",
      "https://old.reddit.com/r/NoStupidQuestions/top.json?t=all&after=t3_bxymlf\n",
      "https://old.reddit.com/r/NoStupidQuestions/top.json?t=all&after=t3_4u9fnn\n",
      "https://old.reddit.com/r/NoStupidQuestions/top.json?t=all&after=t3_8fr1w6\n",
      "https://old.reddit.com/r/NoStupidQuestions/top.json?t=all&after=t3_8b7om5\n",
      "https://old.reddit.com/r/NoStupidQuestions/top.json?t=all&after=t3_6gzpp0\n",
      "https://old.reddit.com/r/NoStupidQuestions/top.json?t=all&after=t3_4vl7ph\n",
      "https://old.reddit.com/r/NoStupidQuestions/top.json?t=all&after=t3_60tf84\n",
      "https://old.reddit.com/r/NoStupidQuestions/top.json?t=all&after=t3_75f96e\n",
      "https://old.reddit.com/r/NoStupidQuestions/top.json?t=all&after=t3_83c7wk\n",
      "https://old.reddit.com/r/NoStupidQuestions/top.json?t=all&after=t3_803uqc\n",
      "https://old.reddit.com/r/NoStupidQuestions/top.json?t=all&after=t3_8or0x3\n",
      "https://old.reddit.com/r/NoStupidQuestions/top.json?t=all&after=t3_8erh9t\n",
      "https://old.reddit.com/r/NoStupidQuestions/top.json?t=all&after=t3_4ozd53\n",
      "https://old.reddit.com/r/NoStupidQuestions/top.json?t=all&after=t3_9beiom\n",
      "https://old.reddit.com/r/NoStupidQuestions/top.json?t=all&after=t3_4ui3ey\n",
      "https://old.reddit.com/r/NoStupidQuestions/top.json?t=all&after=t3_6qyyxe\n",
      "https://old.reddit.com/r/NoStupidQuestions/top.json?t=all&after=t3_ae8htk\n",
      "https://old.reddit.com/r/NoStupidQuestions/top.json?t=all&after=t3_80mrb1\n",
      "https://old.reddit.com/r/NoStupidQuestions/top.json?t=all&after=t3_bdhdak\n",
      "https://old.reddit.com/r/NoStupidQuestions/top.json?t=all&after=t3_6fajwk\n",
      "https://old.reddit.com/r/NoStupidQuestions/top.json?t=all&after=t3_7q7zkd\n",
      "https://old.reddit.com/r/NoStupidQuestions/top.json?t=all&after=t3_76r14z\n",
      "https://old.reddit.com/r/NoStupidQuestions/top.json?t=all&after=t3_4z6a6q\n",
      "https://old.reddit.com/r/NoStupidQuestions/top.json?t=all&after=t3_3w7rp8\n"
     ]
    }
   ],
   "source": [
    "nsq = sub_query('NoStupidQuestions', sub_all)"
   ]
  },
  {
   "cell_type": "code",
   "execution_count": 10,
   "metadata": {},
   "outputs": [
    {
     "name": "stdout",
     "output_type": "stream",
     "text": [
      "https://old.reddit.com/r/NoStupidQuestions.json\n",
      "https://old.reddit.com/r/NoStupidQuestions.json?count=25&after=t3_cbm0v9\n",
      "https://old.reddit.com/r/NoStupidQuestions.json?count=25&after=t3_cbm9ya\n",
      "https://old.reddit.com/r/NoStupidQuestions.json?count=25&after=t3_cbpdnt\n",
      "https://old.reddit.com/r/NoStupidQuestions.json?count=25&after=t3_cbozd0\n",
      "https://old.reddit.com/r/NoStupidQuestions.json?count=25&after=t3_cbojmg\n",
      "https://old.reddit.com/r/NoStupidQuestions.json?count=25&after=t3_cbmcjc\n",
      "https://old.reddit.com/r/NoStupidQuestions.json?count=25&after=t3_cblw1d\n",
      "https://old.reddit.com/r/NoStupidQuestions.json?count=25&after=t3_cbn41h\n",
      "https://old.reddit.com/r/NoStupidQuestions.json?count=25&after=t3_cbphqg\n",
      "https://old.reddit.com/r/NoStupidQuestions.json?count=25&after=t3_cbl2l3\n",
      "https://old.reddit.com/r/NoStupidQuestions.json?count=25&after=t3_cbp48r\n",
      "https://old.reddit.com/r/NoStupidQuestions.json?count=25&after=t3_cbowb9\n",
      "https://old.reddit.com/r/NoStupidQuestions.json?count=25&after=t3_cboiw3\n",
      "https://old.reddit.com/r/NoStupidQuestions.json?count=25&after=t3_cbo7pu\n",
      "https://old.reddit.com/r/NoStupidQuestions.json?count=25&after=t3_cbnv8v\n",
      "https://old.reddit.com/r/NoStupidQuestions.json?count=25&after=t3_cbksiv\n",
      "https://old.reddit.com/r/NoStupidQuestions.json?count=25&after=t3_cbna7f\n",
      "https://old.reddit.com/r/NoStupidQuestions.json?count=25&after=t3_cbiekd\n",
      "https://old.reddit.com/r/NoStupidQuestions.json?count=25&after=t3_cbjm1j\n",
      "https://old.reddit.com/r/NoStupidQuestions.json?count=25&after=t3_cbhko5\n",
      "https://old.reddit.com/r/NoStupidQuestions.json?count=25&after=t3_cbh6sc\n",
      "https://old.reddit.com/r/NoStupidQuestions.json?count=25&after=t3_cblc37\n",
      "https://old.reddit.com/r/NoStupidQuestions.json?count=25&after=t3_cbnqe7\n",
      "https://old.reddit.com/r/NoStupidQuestions.json?count=25&after=t3_cbhp2o\n",
      "https://old.reddit.com/r/NoStupidQuestions.json?count=25&after=t3_cbkc1k\n",
      "https://old.reddit.com/r/NoStupidQuestions.json?count=25&after=t3_cbjsuj\n",
      "https://old.reddit.com/r/NoStupidQuestions.json?count=25&after=t3_cbjciz\n",
      "https://old.reddit.com/r/NoStupidQuestions.json?count=25&after=t3_cbj1qm\n",
      "https://old.reddit.com/r/NoStupidQuestions.json?count=25&after=t3_cbisrj\n",
      "https://old.reddit.com/r/NoStupidQuestions.json?count=25&after=t3_cbih98\n",
      "https://old.reddit.com/r/NoStupidQuestions.json?count=25&after=t3_cbi78d\n",
      "https://old.reddit.com/r/NoStupidQuestions.json?count=25&after=t3_cbfe8l\n",
      "https://old.reddit.com/r/NoStupidQuestions.json?count=25&after=t3_cbcmhb\n",
      "https://old.reddit.com/r/NoStupidQuestions.json?count=25&after=t3_cbgqdh\n",
      "https://old.reddit.com/r/NoStupidQuestions.json?count=25&after=t3_cbcnui\n",
      "https://old.reddit.com/r/NoStupidQuestions.json?count=25&after=t3_cbg6y7\n",
      "https://old.reddit.com/r/NoStupidQuestions.json?count=25&after=t3_cbb9pz\n",
      "https://old.reddit.com/r/NoStupidQuestions.json?count=25&after=t3_cbdno1\n",
      "https://old.reddit.com/r/NoStupidQuestions.json?count=25&after=t3_cbf2n9\n"
     ]
    }
   ],
   "source": [
    "nsq = sub_query('NoStupidQuestions', sub_hot, nsq)"
   ]
  },
  {
   "cell_type": "code",
   "execution_count": 11,
   "metadata": {},
   "outputs": [
    {
     "name": "stdout",
     "output_type": "stream",
     "text": [
      "https://old.reddit.com/r/NoStupidQuestions/new.json\n",
      "https://old.reddit.com/r/NoStupidQuestions/new.json?count=25&after=t3_cbpggn\n",
      "https://old.reddit.com/r/NoStupidQuestions/new.json?count=25&after=t3_cbp4yq\n",
      "https://old.reddit.com/r/NoStupidQuestions/new.json?count=25&after=t3_cboxyj\n",
      "https://old.reddit.com/r/NoStupidQuestions/new.json?count=25&after=t3_cbooi4\n",
      "https://old.reddit.com/r/NoStupidQuestions/new.json?count=25&after=t3_cbofbk\n",
      "https://old.reddit.com/r/NoStupidQuestions/new.json?count=25&after=t3_cbo36v\n",
      "https://old.reddit.com/r/NoStupidQuestions/new.json?count=25&after=t3_cbnqwa\n",
      "https://old.reddit.com/r/NoStupidQuestions/new.json?count=25&after=t3_cbnk9a\n",
      "https://old.reddit.com/r/NoStupidQuestions/new.json?count=25&after=t3_cbna7f\n",
      "https://old.reddit.com/r/NoStupidQuestions/new.json?count=25&after=t3_cbn34o\n",
      "https://old.reddit.com/r/NoStupidQuestions/new.json?count=25&after=t3_cbmogs\n",
      "https://old.reddit.com/r/NoStupidQuestions/new.json?count=25&after=t3_cbmcmj\n",
      "https://old.reddit.com/r/NoStupidQuestions/new.json?count=25&after=t3_cbm356\n",
      "https://old.reddit.com/r/NoStupidQuestions/new.json?count=25&after=t3_cblqzp\n",
      "https://old.reddit.com/r/NoStupidQuestions/new.json?count=25&after=t3_cblcg6\n",
      "https://old.reddit.com/r/NoStupidQuestions/new.json?count=25&after=t3_cbl2f2\n",
      "https://old.reddit.com/r/NoStupidQuestions/new.json?count=25&after=t3_cbkrfq\n",
      "https://old.reddit.com/r/NoStupidQuestions/new.json?count=25&after=t3_cbkf7s\n",
      "https://old.reddit.com/r/NoStupidQuestions/new.json?count=25&after=t3_cbk50n\n",
      "https://old.reddit.com/r/NoStupidQuestions/new.json?count=25&after=t3_cbjv1e\n",
      "https://old.reddit.com/r/NoStupidQuestions/new.json?count=25&after=t3_cbjkz6\n",
      "https://old.reddit.com/r/NoStupidQuestions/new.json?count=25&after=t3_cbj7rs\n",
      "https://old.reddit.com/r/NoStupidQuestions/new.json?count=25&after=t3_cbiy72\n",
      "https://old.reddit.com/r/NoStupidQuestions/new.json?count=25&after=t3_cbion9\n",
      "https://old.reddit.com/r/NoStupidQuestions/new.json?count=25&after=t3_cbifh4\n",
      "https://old.reddit.com/r/NoStupidQuestions/new.json?count=25&after=t3_cbi2ah\n",
      "https://old.reddit.com/r/NoStupidQuestions/new.json?count=25&after=t3_cbhr6o\n",
      "https://old.reddit.com/r/NoStupidQuestions/new.json?count=25&after=t3_cbhi37\n",
      "https://old.reddit.com/r/NoStupidQuestions/new.json?count=25&after=t3_cbh0k4\n",
      "https://old.reddit.com/r/NoStupidQuestions/new.json?count=25&after=t3_cbgq7h\n",
      "https://old.reddit.com/r/NoStupidQuestions/new.json?count=25&after=t3_cbggn3\n",
      "https://old.reddit.com/r/NoStupidQuestions/new.json?count=25&after=t3_cbg6n1\n",
      "https://old.reddit.com/r/NoStupidQuestions/new.json?count=25&after=t3_cbfqdx\n",
      "https://old.reddit.com/r/NoStupidQuestions/new.json?count=25&after=t3_cbf61w\n",
      "https://old.reddit.com/r/NoStupidQuestions/new.json?count=25&after=t3_cbempd\n",
      "https://old.reddit.com/r/NoStupidQuestions/new.json?count=25&after=t3_cbe8d7\n",
      "https://old.reddit.com/r/NoStupidQuestions/new.json?count=25&after=t3_cbdsou\n",
      "https://old.reddit.com/r/NoStupidQuestions/new.json?count=25&after=t3_cbdecw\n",
      "https://old.reddit.com/r/NoStupidQuestions/new.json?count=25&after=t3_cbcz9c\n"
     ]
    }
   ],
   "source": [
    "nsq = sub_query('NoStupidQuestions', sub_new, nsq)"
   ]
  },
  {
   "cell_type": "code",
   "execution_count": 12,
   "metadata": {},
   "outputs": [],
   "source": [
    "eli5_text = combine_text(eli5)"
   ]
  },
  {
   "cell_type": "code",
   "execution_count": 13,
   "metadata": {},
   "outputs": [],
   "source": [
    "nsq_text = combine_text(nsq)"
   ]
  },
  {
   "cell_type": "code",
   "execution_count": 14,
   "metadata": {},
   "outputs": [],
   "source": [
    "eli5_df = pd.DataFrame(eli5_text, columns=['text'])\n",
    "eli5_df['is_eli5']= 1"
   ]
  },
  {
   "cell_type": "code",
   "execution_count": 15,
   "metadata": {},
   "outputs": [],
   "source": [
    "nsq_df = pd.DataFrame(nsq_text, columns=['text'])\n",
    "nsq_df['is_eli5']= 0"
   ]
  },
  {
   "cell_type": "code",
   "execution_count": 16,
   "metadata": {},
   "outputs": [],
   "source": [
    "reddit = pd.concat([eli5_df, nsq_df], ignore_index=True)"
   ]
  },
  {
   "cell_type": "code",
   "execution_count": 17,
   "metadata": {},
   "outputs": [
    {
     "data": {
      "text/plain": [
       "1    2953\n",
       "0    2949\n",
       "Name: is_eli5, dtype: int64"
      ]
     },
     "execution_count": 17,
     "metadata": {},
     "output_type": "execute_result"
    }
   ],
   "source": [
    "reddit['is_eli5'].value_counts()"
   ]
  },
  {
   "cell_type": "code",
   "execution_count": 18,
   "metadata": {},
   "outputs": [
    {
     "data": {
      "text/plain": [
       "(5902, 2)"
      ]
     },
     "execution_count": 18,
     "metadata": {},
     "output_type": "execute_result"
    }
   ],
   "source": [
    "reddit.shape"
   ]
  },
  {
   "cell_type": "code",
   "execution_count": 21,
   "metadata": {},
   "outputs": [],
   "source": [
    "reddit = reddit.drop_duplicates()"
   ]
  },
  {
   "cell_type": "code",
   "execution_count": 26,
   "metadata": {},
   "outputs": [
    {
     "data": {
      "text/plain": [
       "(3938, 2)"
      ]
     },
     "execution_count": 26,
     "metadata": {},
     "output_type": "execute_result"
    }
   ],
   "source": [
    "reddit.shape"
   ]
  },
  {
   "cell_type": "code",
   "execution_count": 23,
   "metadata": {},
   "outputs": [
    {
     "data": {
      "text/plain": [
       "0    0.512189\n",
       "1    0.487811\n",
       "Name: is_eli5, dtype: float64"
      ]
     },
     "execution_count": 23,
     "metadata": {},
     "output_type": "execute_result"
    }
   ],
   "source": [
    "reddit['is_eli5'].value_counts(normalize=True)"
   ]
  },
  {
   "cell_type": "code",
   "execution_count": 25,
   "metadata": {},
   "outputs": [],
   "source": [
    "reddit.to_csv('./datasets/reddit.csv', index=False)"
   ]
  },
  {
   "cell_type": "code",
   "execution_count": null,
   "metadata": {},
   "outputs": [],
   "source": []
  }
 ],
 "metadata": {
  "kernelspec": {
   "display_name": "Python 3",
   "language": "python",
   "name": "python3"
  },
  "language_info": {
   "codemirror_mode": {
    "name": "ipython",
    "version": 3
   },
   "file_extension": ".py",
   "mimetype": "text/x-python",
   "name": "python",
   "nbconvert_exporter": "python",
   "pygments_lexer": "ipython3",
   "version": "3.7.3"
  }
 },
 "nbformat": 4,
 "nbformat_minor": 2
}
