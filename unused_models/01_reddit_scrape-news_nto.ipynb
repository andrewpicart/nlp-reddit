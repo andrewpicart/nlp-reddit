{
 "cells": [
  {
   "cell_type": "code",
   "execution_count": 1,
   "metadata": {},
   "outputs": [],
   "source": [
    "import requests, json, time, re\n",
    "import pandas as pd\n",
    "import numpy as np\n",
    "from sklearn.feature_extraction.text import TfidfVectorizer\n",
    "from sklearn.ensemble import RandomForestClassifier\n",
    "from sklearn.model_selection import train_test_split, GridSearchCV\n",
    "import matplotlib.pyplot as plt"
   ]
  },
  {
   "cell_type": "code",
   "execution_count": 2,
   "metadata": {},
   "outputs": [],
   "source": [
    "sub_all = '/top.json?t=all'\n",
    "sub_gilded = '/gilded.json'\n",
    "sub_hot = '.json'"
   ]
  },
  {
   "cell_type": "code",
   "execution_count": 3,
   "metadata": {},
   "outputs": [],
   "source": [
    "sub_new = '/new.json'"
   ]
  },
  {
   "cell_type": "code",
   "execution_count": 4,
   "metadata": {},
   "outputs": [],
   "source": [
    "# adapted code for Adi\n",
    "# posts is the returned dictionary (should pass in previously ran `posts`)\n",
    "# subreddit = url string \n",
    "# subpage = the page on the subreddit (should be already defined)\n",
    "def sub_query(subreddit, subpage, posts=None, pages=60):\n",
    "    \n",
    "    #Step 0: set initial conditions\n",
    "    if posts == None:\n",
    "        posts = []\n",
    "    else:\n",
    "        posts = posts\n",
    "    url = f'https://old.reddit.com/r/{subreddit}{subpage}'\n",
    "    after = None\n",
    "\n",
    "    #Step 1: build the loop and print URL\n",
    "    for _ in range(pages):\n",
    "        if after == None:\n",
    "            current_url = url\n",
    "        elif subpage == '/top.json?t=all':\n",
    "            current_url = url + '&after=' + after\n",
    "        else:\n",
    "            current_url = url + '?count=25&after=' + after\n",
    "\n",
    "        print(current_url)\n",
    "\n",
    "        #Step 2a: make the requests and handle status code. Add time.sleep now (2.b)\n",
    "        res = requests.get(current_url, headers={'User-agent': 'hehehehe'})\n",
    "\n",
    "        if res.status_code != 200:\n",
    "            print('Status error', res.status_code)\n",
    "            break\n",
    "\n",
    "        #Step 3: Actually deal with the data   \n",
    "        current_dict = res.json()\n",
    "        current_posts = [p['data'] for p in current_dict['data']['children']]\n",
    "        posts.extend(current_posts)\n",
    "\n",
    "        after = current_dict['data']['after']\n",
    "\n",
    "        #Step 2b:\n",
    "        time.sleep(0.25)\n",
    "\n",
    "    return posts"
   ]
  },
  {
   "cell_type": "code",
   "execution_count": 5,
   "metadata": {},
   "outputs": [
    {
     "name": "stdout",
     "output_type": "stream",
     "text": [
      "https://old.reddit.com/r/news/top.json?t=all\n",
      "https://old.reddit.com/r/news/top.json?t=all&after=t3_aezedn\n",
      "https://old.reddit.com/r/news/top.json?t=all&after=t3_7aqilp\n",
      "https://old.reddit.com/r/news/top.json?t=all&after=t3_925h9r\n",
      "https://old.reddit.com/r/news/top.json?t=all&after=t3_7ib4bo\n",
      "https://old.reddit.com/r/news/top.json?t=all&after=t3_afiri2\n",
      "https://old.reddit.com/r/news/top.json?t=all&after=t3_9zop96\n",
      "https://old.reddit.com/r/news/top.json?t=all&after=t3_73n05s\n",
      "https://old.reddit.com/r/news/top.json?t=all&after=t3_77iqr8\n",
      "https://old.reddit.com/r/news/top.json?t=all&after=t3_a5zya6\n",
      "https://old.reddit.com/r/news/top.json?t=all&after=t3_8vjnng\n",
      "https://old.reddit.com/r/news/top.json?t=all&after=t3_aqy9ba\n",
      "https://old.reddit.com/r/news/top.json?t=all&after=t3_b31o1f\n",
      "https://old.reddit.com/r/news/top.json?t=all&after=t3_7zwi9g\n",
      "https://old.reddit.com/r/news/top.json?t=all&after=t3_6wj9ey\n",
      "https://old.reddit.com/r/news/top.json?t=all&after=t3_6z3755\n",
      "https://old.reddit.com/r/news/top.json?t=all&after=t3_80voxz\n",
      "https://old.reddit.com/r/news/top.json?t=all&after=t3_8idzjv\n",
      "https://old.reddit.com/r/news/top.json?t=all&after=t3_c1vazo\n",
      "https://old.reddit.com/r/news/top.json?t=all&after=t3_b2y358\n",
      "https://old.reddit.com/r/news/top.json?t=all&after=t3_6zmyzp\n",
      "https://old.reddit.com/r/news/top.json?t=all&after=t3_5zhdlw\n",
      "https://old.reddit.com/r/news/top.json?t=all&after=t3_a6nwj7\n",
      "https://old.reddit.com/r/news/top.json?t=all&after=t3_9att4n\n",
      "https://old.reddit.com/r/news/top.json?t=all&after=t3_c8heqd\n",
      "https://old.reddit.com/r/news/top.json?t=all&after=t3_6ls49w\n",
      "https://old.reddit.com/r/news/top.json?t=all&after=t3_4cioxg\n",
      "https://old.reddit.com/r/news/top.json?t=all&after=t3_atg1m3\n",
      "https://old.reddit.com/r/news/top.json?t=all&after=t3_8ss9ro\n",
      "https://old.reddit.com/r/news/top.json?t=all&after=t3_axa1he\n",
      "https://old.reddit.com/r/news/top.json?t=all&after=t3_9secru\n",
      "https://old.reddit.com/r/news/top.json?t=all&after=t3_acq0yj\n",
      "https://old.reddit.com/r/news/top.json?t=all&after=t3_4nw1ah\n",
      "https://old.reddit.com/r/news/top.json?t=all&after=t3_6pva9u\n",
      "https://old.reddit.com/r/news/top.json?t=all&after=t3_9vl50l\n",
      "https://old.reddit.com/r/news/top.json?t=all&after=t3_995hrv\n",
      "https://old.reddit.com/r/news/top.json?t=all&after=t3_c1itjk\n",
      "https://old.reddit.com/r/news/top.json?t=all&after=t3_5wco2n\n",
      "https://old.reddit.com/r/news/top.json?t=all&after=t3_5qdyuz\n",
      "https://old.reddit.com/r/news/top.json?t=all&after=t3_9tf4hz\n",
      "https://old.reddit.com/r/news/top.json?t=all\n",
      "https://old.reddit.com/r/news/top.json?t=all&after=t3_aezedn\n",
      "https://old.reddit.com/r/news/top.json?t=all&after=t3_7aqilp\n",
      "https://old.reddit.com/r/news/top.json?t=all&after=t3_925h9r\n",
      "https://old.reddit.com/r/news/top.json?t=all&after=t3_7ib4bo\n",
      "https://old.reddit.com/r/news/top.json?t=all&after=t3_afiri2\n",
      "https://old.reddit.com/r/news/top.json?t=all&after=t3_9zop96\n",
      "https://old.reddit.com/r/news/top.json?t=all&after=t3_73n05s\n",
      "https://old.reddit.com/r/news/top.json?t=all&after=t3_77iqr8\n",
      "https://old.reddit.com/r/news/top.json?t=all&after=t3_a5zya6\n",
      "https://old.reddit.com/r/news/top.json?t=all&after=t3_8vjnng\n",
      "https://old.reddit.com/r/news/top.json?t=all&after=t3_aqy9ba\n",
      "https://old.reddit.com/r/news/top.json?t=all&after=t3_b31o1f\n",
      "https://old.reddit.com/r/news/top.json?t=all&after=t3_7zwi9g\n",
      "https://old.reddit.com/r/news/top.json?t=all&after=t3_6wj9ey\n",
      "https://old.reddit.com/r/news/top.json?t=all&after=t3_6z3755\n",
      "https://old.reddit.com/r/news/top.json?t=all&after=t3_80voxz\n",
      "https://old.reddit.com/r/news/top.json?t=all&after=t3_8idzjv\n",
      "https://old.reddit.com/r/news/top.json?t=all&after=t3_c1vazo\n",
      "https://old.reddit.com/r/news/top.json?t=all&after=t3_b2y358\n"
     ]
    }
   ],
   "source": [
    "news = sub_query('news', sub_all)"
   ]
  },
  {
   "cell_type": "code",
   "execution_count": 6,
   "metadata": {},
   "outputs": [
    {
     "name": "stdout",
     "output_type": "stream",
     "text": [
      "https://old.reddit.com/r/news.json\n",
      "https://old.reddit.com/r/news.json?count=25&after=t3_cbplpl\n",
      "https://old.reddit.com/r/news.json?count=25&after=t3_cbnq1e\n",
      "https://old.reddit.com/r/news.json?count=25&after=t3_cazztb\n",
      "https://old.reddit.com/r/news.json?count=25&after=t3_cb55a8\n",
      "https://old.reddit.com/r/news.json?count=25&after=t3_cbps64\n",
      "https://old.reddit.com/r/news.json?count=25&after=t3_cb38ie\n",
      "https://old.reddit.com/r/news.json?count=25&after=t3_cauqe4\n",
      "https://old.reddit.com/r/news.json?count=25&after=t3_ca5teu\n",
      "https://old.reddit.com/r/news.json?count=25&after=t3_cad3xr\n",
      "https://old.reddit.com/r/news.json\n",
      "https://old.reddit.com/r/news.json?count=25&after=t3_cbplpl\n",
      "https://old.reddit.com/r/news.json?count=25&after=t3_cbnq1e\n",
      "https://old.reddit.com/r/news.json?count=25&after=t3_cazztb\n",
      "https://old.reddit.com/r/news.json?count=25&after=t3_cb55a8\n",
      "https://old.reddit.com/r/news.json?count=25&after=t3_cbps64\n",
      "https://old.reddit.com/r/news.json?count=25&after=t3_cb38ie\n",
      "https://old.reddit.com/r/news.json?count=25&after=t3_cauqe4\n",
      "https://old.reddit.com/r/news.json?count=25&after=t3_ca5teu\n",
      "https://old.reddit.com/r/news.json?count=25&after=t3_cad3xr\n",
      "https://old.reddit.com/r/news.json\n",
      "https://old.reddit.com/r/news.json?count=25&after=t3_cbplpl\n",
      "https://old.reddit.com/r/news.json?count=25&after=t3_cbnq1e\n",
      "https://old.reddit.com/r/news.json?count=25&after=t3_cazztb\n",
      "https://old.reddit.com/r/news.json?count=25&after=t3_cb55a8\n",
      "https://old.reddit.com/r/news.json?count=25&after=t3_cbps64\n",
      "https://old.reddit.com/r/news.json?count=25&after=t3_cb38ie\n",
      "https://old.reddit.com/r/news.json?count=25&after=t3_cauqe4\n",
      "https://old.reddit.com/r/news.json?count=25&after=t3_ca5teu\n",
      "https://old.reddit.com/r/news.json?count=25&after=t3_cad3xr\n",
      "https://old.reddit.com/r/news.json\n",
      "https://old.reddit.com/r/news.json?count=25&after=t3_cbplpl\n",
      "https://old.reddit.com/r/news.json?count=25&after=t3_cbnq1e\n",
      "https://old.reddit.com/r/news.json?count=25&after=t3_cazztb\n",
      "https://old.reddit.com/r/news.json?count=25&after=t3_cb55a8\n",
      "https://old.reddit.com/r/news.json?count=25&after=t3_cbps64\n",
      "https://old.reddit.com/r/news.json?count=25&after=t3_cb38ie\n",
      "https://old.reddit.com/r/news.json?count=25&after=t3_cauqe4\n",
      "https://old.reddit.com/r/news.json?count=25&after=t3_ca5teu\n",
      "https://old.reddit.com/r/news.json?count=25&after=t3_cad3xr\n",
      "https://old.reddit.com/r/news.json\n",
      "https://old.reddit.com/r/news.json?count=25&after=t3_cbplpl\n",
      "https://old.reddit.com/r/news.json?count=25&after=t3_cbnq1e\n",
      "https://old.reddit.com/r/news.json?count=25&after=t3_cazztb\n",
      "https://old.reddit.com/r/news.json?count=25&after=t3_cb55a8\n",
      "https://old.reddit.com/r/news.json?count=25&after=t3_cbps64\n",
      "https://old.reddit.com/r/news.json?count=25&after=t3_cb38ie\n",
      "https://old.reddit.com/r/news.json?count=25&after=t3_cauqe4\n",
      "https://old.reddit.com/r/news.json?count=25&after=t3_ca5teu\n",
      "https://old.reddit.com/r/news.json?count=25&after=t3_cad3xr\n",
      "https://old.reddit.com/r/news.json\n",
      "https://old.reddit.com/r/news.json?count=25&after=t3_cbplpl\n",
      "https://old.reddit.com/r/news.json?count=25&after=t3_cbnq1e\n",
      "https://old.reddit.com/r/news.json?count=25&after=t3_cazztb\n",
      "https://old.reddit.com/r/news.json?count=25&after=t3_cb55a8\n",
      "https://old.reddit.com/r/news.json?count=25&after=t3_cbps64\n",
      "https://old.reddit.com/r/news.json?count=25&after=t3_cb38ie\n",
      "https://old.reddit.com/r/news.json?count=25&after=t3_cauqe4\n",
      "https://old.reddit.com/r/news.json?count=25&after=t3_ca5teu\n",
      "https://old.reddit.com/r/news.json?count=25&after=t3_cad3xr\n"
     ]
    }
   ],
   "source": [
    "news = sub_query('news', sub_hot, news)"
   ]
  },
  {
   "cell_type": "code",
   "execution_count": 7,
   "metadata": {},
   "outputs": [
    {
     "name": "stdout",
     "output_type": "stream",
     "text": [
      "https://old.reddit.com/r/news/new.json\n",
      "https://old.reddit.com/r/news/new.json?count=25&after=t3_cbmxnb\n",
      "https://old.reddit.com/r/news/new.json?count=25&after=t3_cbi4do\n",
      "https://old.reddit.com/r/news/new.json?count=25&after=t3_cbebnm\n",
      "https://old.reddit.com/r/news/new.json?count=25&after=t3_cb9lrj\n",
      "https://old.reddit.com/r/news/new.json?count=25&after=t3_cb5806\n",
      "https://old.reddit.com/r/news/new.json?count=25&after=t3_cb0uan\n",
      "https://old.reddit.com/r/news/new.json?count=25&after=t3_cas6jh\n",
      "https://old.reddit.com/r/news/new.json?count=25&after=t3_cafko9\n",
      "https://old.reddit.com/r/news/new.json?count=25&after=t3_ca7y9g\n",
      "https://old.reddit.com/r/news/new.json?count=25&after=t3_ca0s9r\n",
      "https://old.reddit.com/r/news/new.json\n",
      "https://old.reddit.com/r/news/new.json?count=25&after=t3_cbmxnb\n",
      "https://old.reddit.com/r/news/new.json?count=25&after=t3_cbi4do\n",
      "https://old.reddit.com/r/news/new.json?count=25&after=t3_cbebnm\n",
      "https://old.reddit.com/r/news/new.json?count=25&after=t3_cb9lrj\n",
      "https://old.reddit.com/r/news/new.json?count=25&after=t3_cb5806\n",
      "https://old.reddit.com/r/news/new.json?count=25&after=t3_cb0uan\n",
      "https://old.reddit.com/r/news/new.json?count=25&after=t3_cas6jh\n",
      "https://old.reddit.com/r/news/new.json?count=25&after=t3_cafko9\n",
      "https://old.reddit.com/r/news/new.json?count=25&after=t3_ca7y9g\n",
      "https://old.reddit.com/r/news/new.json?count=25&after=t3_ca0s9r\n",
      "https://old.reddit.com/r/news/new.json\n",
      "https://old.reddit.com/r/news/new.json?count=25&after=t3_cbmxnb\n",
      "https://old.reddit.com/r/news/new.json?count=25&after=t3_cbi4do\n",
      "https://old.reddit.com/r/news/new.json?count=25&after=t3_cbebnm\n",
      "https://old.reddit.com/r/news/new.json?count=25&after=t3_cb9lrj\n",
      "https://old.reddit.com/r/news/new.json?count=25&after=t3_cb5806\n",
      "https://old.reddit.com/r/news/new.json?count=25&after=t3_cb0uan\n",
      "https://old.reddit.com/r/news/new.json?count=25&after=t3_cas6jh\n",
      "https://old.reddit.com/r/news/new.json?count=25&after=t3_cafko9\n",
      "https://old.reddit.com/r/news/new.json?count=25&after=t3_ca7y9g\n",
      "https://old.reddit.com/r/news/new.json?count=25&after=t3_ca0s9r\n",
      "https://old.reddit.com/r/news/new.json\n",
      "https://old.reddit.com/r/news/new.json?count=25&after=t3_cbmxnb\n",
      "https://old.reddit.com/r/news/new.json?count=25&after=t3_cbi4do\n",
      "https://old.reddit.com/r/news/new.json?count=25&after=t3_cbebnm\n",
      "https://old.reddit.com/r/news/new.json?count=25&after=t3_cb9lrj\n",
      "https://old.reddit.com/r/news/new.json?count=25&after=t3_cb5806\n",
      "https://old.reddit.com/r/news/new.json?count=25&after=t3_cb0uan\n",
      "https://old.reddit.com/r/news/new.json?count=25&after=t3_cas6jh\n",
      "https://old.reddit.com/r/news/new.json?count=25&after=t3_cafko9\n",
      "https://old.reddit.com/r/news/new.json?count=25&after=t3_ca7y9g\n",
      "https://old.reddit.com/r/news/new.json?count=25&after=t3_ca0s9r\n",
      "https://old.reddit.com/r/news/new.json\n",
      "https://old.reddit.com/r/news/new.json?count=25&after=t3_cbmxnb\n",
      "https://old.reddit.com/r/news/new.json?count=25&after=t3_cbi4do\n",
      "https://old.reddit.com/r/news/new.json?count=25&after=t3_cbebnm\n",
      "https://old.reddit.com/r/news/new.json?count=25&after=t3_cb9lrj\n",
      "https://old.reddit.com/r/news/new.json?count=25&after=t3_cb5806\n",
      "https://old.reddit.com/r/news/new.json?count=25&after=t3_cb0uan\n",
      "https://old.reddit.com/r/news/new.json?count=25&after=t3_cas6jh\n",
      "https://old.reddit.com/r/news/new.json?count=25&after=t3_cafko9\n",
      "https://old.reddit.com/r/news/new.json?count=25&after=t3_ca7y9g\n",
      "https://old.reddit.com/r/news/new.json?count=25&after=t3_ca0s9r\n",
      "https://old.reddit.com/r/news/new.json\n",
      "https://old.reddit.com/r/news/new.json?count=25&after=t3_cbmxnb\n",
      "https://old.reddit.com/r/news/new.json?count=25&after=t3_cbi4do\n",
      "https://old.reddit.com/r/news/new.json?count=25&after=t3_cbebnm\n",
      "https://old.reddit.com/r/news/new.json?count=25&after=t3_cb9lrj\n"
     ]
    }
   ],
   "source": [
    "news = sub_query('news', sub_new, news)"
   ]
  },
  {
   "cell_type": "code",
   "execution_count": 8,
   "metadata": {},
   "outputs": [],
   "source": [
    "def combine_text(posts):\n",
    "    return[' '.join([post['title'], post['selftext']]) for post in posts] # build this out to a function"
   ]
  },
  {
   "cell_type": "code",
   "execution_count": 9,
   "metadata": {},
   "outputs": [
    {
     "name": "stdout",
     "output_type": "stream",
     "text": [
      "https://old.reddit.com/r/nottheonion/top.json?t=all\n",
      "https://old.reddit.com/r/nottheonion/top.json?t=all&after=t3_7jx5td\n",
      "https://old.reddit.com/r/nottheonion/top.json?t=all&after=t3_9xrdj2\n",
      "https://old.reddit.com/r/nottheonion/top.json?t=all&after=t3_7qpq3u\n",
      "https://old.reddit.com/r/nottheonion/top.json?t=all&after=t3_79nb46\n",
      "https://old.reddit.com/r/nottheonion/top.json?t=all&after=t3_aycaai\n",
      "https://old.reddit.com/r/nottheonion/top.json?t=all&after=t3_85b4dn\n",
      "https://old.reddit.com/r/nottheonion/top.json?t=all&after=t3_8pm20x\n",
      "https://old.reddit.com/r/nottheonion/top.json?t=all&after=t3_btnloy\n",
      "https://old.reddit.com/r/nottheonion/top.json?t=all&after=t3_69gpah\n",
      "https://old.reddit.com/r/nottheonion/top.json?t=all&after=t3_97vxkb\n",
      "https://old.reddit.com/r/nottheonion/top.json?t=all&after=t3_6foh0c\n",
      "https://old.reddit.com/r/nottheonion/top.json?t=all&after=t3_7q11t9\n",
      "https://old.reddit.com/r/nottheonion/top.json?t=all&after=t3_74p90l\n",
      "https://old.reddit.com/r/nottheonion/top.json?t=all&after=t3_am1ss4\n",
      "https://old.reddit.com/r/nottheonion/top.json?t=all&after=t3_8wa7xt\n",
      "https://old.reddit.com/r/nottheonion/top.json?t=all&after=t3_atd0of\n",
      "https://old.reddit.com/r/nottheonion/top.json?t=all&after=t3_6v53ze\n",
      "https://old.reddit.com/r/nottheonion/top.json?t=all&after=t3_6w41qk\n",
      "https://old.reddit.com/r/nottheonion/top.json?t=all&after=t3_5wgegi\n",
      "https://old.reddit.com/r/nottheonion/top.json?t=all&after=t3_783kwo\n",
      "https://old.reddit.com/r/nottheonion/top.json?t=all&after=t3_7gdund\n",
      "https://old.reddit.com/r/nottheonion/top.json?t=all&after=t3_837066\n",
      "https://old.reddit.com/r/nottheonion/top.json?t=all&after=t3_4btpmn\n",
      "https://old.reddit.com/r/nottheonion/top.json?t=all&after=t3_889wk5\n",
      "https://old.reddit.com/r/nottheonion/top.json?t=all&after=t3_9aj1da\n",
      "https://old.reddit.com/r/nottheonion/top.json?t=all&after=t3_743pr9\n",
      "https://old.reddit.com/r/nottheonion/top.json?t=all&after=t3_c93gty\n",
      "https://old.reddit.com/r/nottheonion/top.json?t=all&after=t3_4xrf71\n",
      "https://old.reddit.com/r/nottheonion/top.json?t=all&after=t3_b9wv0x\n",
      "https://old.reddit.com/r/nottheonion/top.json?t=all&after=t3_9yn4oo\n",
      "https://old.reddit.com/r/nottheonion/top.json?t=all&after=t3_6kk5ep\n",
      "https://old.reddit.com/r/nottheonion/top.json?t=all&after=t3_59h1ho\n",
      "https://old.reddit.com/r/nottheonion/top.json?t=all&after=t3_4au56w\n",
      "https://old.reddit.com/r/nottheonion/top.json?t=all&after=t3_6grp1y\n",
      "https://old.reddit.com/r/nottheonion/top.json?t=all&after=t3_atn7zp\n",
      "https://old.reddit.com/r/nottheonion/top.json?t=all&after=t3_3e77mu\n",
      "https://old.reddit.com/r/nottheonion/top.json?t=all&after=t3_6gmlp9\n",
      "https://old.reddit.com/r/nottheonion/top.json?t=all&after=t3_5ycavm\n",
      "https://old.reddit.com/r/nottheonion/top.json?t=all\n",
      "https://old.reddit.com/r/nottheonion/top.json?t=all&after=t3_7jx5td\n",
      "https://old.reddit.com/r/nottheonion/top.json?t=all&after=t3_9xrdj2\n",
      "https://old.reddit.com/r/nottheonion/top.json?t=all&after=t3_7qpq3u\n",
      "https://old.reddit.com/r/nottheonion/top.json?t=all&after=t3_79nb46\n",
      "https://old.reddit.com/r/nottheonion/top.json?t=all&after=t3_aycaai\n",
      "https://old.reddit.com/r/nottheonion/top.json?t=all&after=t3_85b4dn\n",
      "https://old.reddit.com/r/nottheonion/top.json?t=all&after=t3_8pm20x\n",
      "https://old.reddit.com/r/nottheonion/top.json?t=all&after=t3_btnloy\n",
      "https://old.reddit.com/r/nottheonion/top.json?t=all&after=t3_69gpah\n",
      "https://old.reddit.com/r/nottheonion/top.json?t=all&after=t3_97vxkb\n",
      "https://old.reddit.com/r/nottheonion/top.json?t=all&after=t3_6foh0c\n",
      "https://old.reddit.com/r/nottheonion/top.json?t=all&after=t3_7q11t9\n",
      "https://old.reddit.com/r/nottheonion/top.json?t=all&after=t3_74p90l\n",
      "https://old.reddit.com/r/nottheonion/top.json?t=all&after=t3_am1ss4\n",
      "https://old.reddit.com/r/nottheonion/top.json?t=all&after=t3_8wa7xt\n",
      "https://old.reddit.com/r/nottheonion/top.json?t=all&after=t3_atd0of\n",
      "https://old.reddit.com/r/nottheonion/top.json?t=all&after=t3_6v53ze\n",
      "https://old.reddit.com/r/nottheonion/top.json?t=all&after=t3_6w41qk\n",
      "https://old.reddit.com/r/nottheonion/top.json?t=all&after=t3_5wgegi\n",
      "https://old.reddit.com/r/nottheonion/top.json?t=all&after=t3_783kwo\n"
     ]
    }
   ],
   "source": [
    "nto = sub_query('nottheonion', sub_all)"
   ]
  },
  {
   "cell_type": "code",
   "execution_count": 10,
   "metadata": {},
   "outputs": [
    {
     "name": "stdout",
     "output_type": "stream",
     "text": [
      "https://old.reddit.com/r/nottheonion.json\n",
      "https://old.reddit.com/r/nottheonion.json?count=25&after=t3_cbn7mn\n",
      "https://old.reddit.com/r/nottheonion.json?count=25&after=t3_cbphzv\n",
      "https://old.reddit.com/r/nottheonion.json?count=25&after=t3_cb69rd\n",
      "https://old.reddit.com/r/nottheonion.json?count=25&after=t3_c9fa0x\n",
      "https://old.reddit.com/r/nottheonion.json?count=25&after=t3_c8jflz\n",
      "https://old.reddit.com/r/nottheonion.json?count=25&after=t3_c6kyoo\n",
      "https://old.reddit.com/r/nottheonion.json?count=25&after=t3_c3vuzd\n",
      "https://old.reddit.com/r/nottheonion.json?count=25&after=t3_c2zpis\n",
      "https://old.reddit.com/r/nottheonion.json\n",
      "https://old.reddit.com/r/nottheonion.json?count=25&after=t3_cbn7mn\n",
      "https://old.reddit.com/r/nottheonion.json?count=25&after=t3_cbphzv\n",
      "https://old.reddit.com/r/nottheonion.json?count=25&after=t3_cb69rd\n",
      "https://old.reddit.com/r/nottheonion.json?count=25&after=t3_c9fa0x\n",
      "https://old.reddit.com/r/nottheonion.json?count=25&after=t3_c8jflz\n",
      "https://old.reddit.com/r/nottheonion.json?count=25&after=t3_c6kyoo\n",
      "https://old.reddit.com/r/nottheonion.json?count=25&after=t3_c3vuzd\n",
      "https://old.reddit.com/r/nottheonion.json?count=25&after=t3_c2zpis\n",
      "https://old.reddit.com/r/nottheonion.json\n",
      "https://old.reddit.com/r/nottheonion.json?count=25&after=t3_cbn7mn\n",
      "https://old.reddit.com/r/nottheonion.json?count=25&after=t3_cbphzv\n",
      "https://old.reddit.com/r/nottheonion.json?count=25&after=t3_cb69rd\n",
      "https://old.reddit.com/r/nottheonion.json?count=25&after=t3_c9fa0x\n",
      "https://old.reddit.com/r/nottheonion.json?count=25&after=t3_c8jflz\n",
      "https://old.reddit.com/r/nottheonion.json?count=25&after=t3_c6kyoo\n",
      "https://old.reddit.com/r/nottheonion.json?count=25&after=t3_c3vuzd\n",
      "https://old.reddit.com/r/nottheonion.json?count=25&after=t3_c2zpis\n",
      "https://old.reddit.com/r/nottheonion.json\n",
      "https://old.reddit.com/r/nottheonion.json?count=25&after=t3_cbn7mn\n",
      "https://old.reddit.com/r/nottheonion.json?count=25&after=t3_cbphzv\n",
      "https://old.reddit.com/r/nottheonion.json?count=25&after=t3_cb69rd\n",
      "https://old.reddit.com/r/nottheonion.json?count=25&after=t3_c9fa0x\n",
      "https://old.reddit.com/r/nottheonion.json?count=25&after=t3_c8jflz\n",
      "https://old.reddit.com/r/nottheonion.json?count=25&after=t3_c6kyoo\n",
      "https://old.reddit.com/r/nottheonion.json?count=25&after=t3_c3vuzd\n",
      "https://old.reddit.com/r/nottheonion.json?count=25&after=t3_c2zpis\n",
      "https://old.reddit.com/r/nottheonion.json\n",
      "https://old.reddit.com/r/nottheonion.json?count=25&after=t3_cbiz80\n",
      "https://old.reddit.com/r/nottheonion.json?count=25&after=t3_cbphzv\n",
      "https://old.reddit.com/r/nottheonion.json?count=25&after=t3_cb69rd\n",
      "https://old.reddit.com/r/nottheonion.json?count=25&after=t3_c9fa0x\n",
      "https://old.reddit.com/r/nottheonion.json?count=25&after=t3_c8jflz\n",
      "https://old.reddit.com/r/nottheonion.json?count=25&after=t3_c6kyoo\n",
      "https://old.reddit.com/r/nottheonion.json?count=25&after=t3_c3vuzd\n",
      "https://old.reddit.com/r/nottheonion.json?count=25&after=t3_c2zpis\n",
      "https://old.reddit.com/r/nottheonion.json\n",
      "https://old.reddit.com/r/nottheonion.json?count=25&after=t3_cbiz80\n",
      "https://old.reddit.com/r/nottheonion.json?count=25&after=t3_cbphzv\n",
      "https://old.reddit.com/r/nottheonion.json?count=25&after=t3_cb69rd\n",
      "https://old.reddit.com/r/nottheonion.json?count=25&after=t3_c9fa0x\n",
      "https://old.reddit.com/r/nottheonion.json?count=25&after=t3_c8jflz\n",
      "https://old.reddit.com/r/nottheonion.json?count=25&after=t3_c6kyoo\n",
      "https://old.reddit.com/r/nottheonion.json?count=25&after=t3_c3vuzd\n",
      "https://old.reddit.com/r/nottheonion.json?count=25&after=t3_c2zpis\n",
      "https://old.reddit.com/r/nottheonion.json\n",
      "https://old.reddit.com/r/nottheonion.json?count=25&after=t3_cbiz80\n",
      "https://old.reddit.com/r/nottheonion.json?count=25&after=t3_cbphzv\n",
      "https://old.reddit.com/r/nottheonion.json?count=25&after=t3_cb69rd\n",
      "https://old.reddit.com/r/nottheonion.json?count=25&after=t3_c9fa0x\n",
      "https://old.reddit.com/r/nottheonion.json?count=25&after=t3_c8jflz\n"
     ]
    }
   ],
   "source": [
    "nto = sub_query('nottheonion', sub_hot, nto)"
   ]
  },
  {
   "cell_type": "code",
   "execution_count": 11,
   "metadata": {},
   "outputs": [
    {
     "name": "stdout",
     "output_type": "stream",
     "text": [
      "https://old.reddit.com/r/nottheonion/new.json\n",
      "https://old.reddit.com/r/nottheonion/new.json?count=25&after=t3_cbo1y3\n",
      "https://old.reddit.com/r/nottheonion/new.json?count=25&after=t3_cbfwl0\n",
      "https://old.reddit.com/r/nottheonion/new.json?count=25&after=t3_cb2rhl\n",
      "https://old.reddit.com/r/nottheonion/new.json?count=25&after=t3_c9smfy\n",
      "https://old.reddit.com/r/nottheonion/new.json?count=25&after=t3_c8xhgq\n",
      "https://old.reddit.com/r/nottheonion/new.json?count=25&after=t3_c6ot6w\n",
      "https://old.reddit.com/r/nottheonion/new.json?count=25&after=t3_c4aijp\n",
      "https://old.reddit.com/r/nottheonion/new.json?count=25&after=t3_c2uu3b\n",
      "https://old.reddit.com/r/nottheonion/new.json?count=25&after=t3_c0yoei\n",
      "https://old.reddit.com/r/nottheonion/new.json?count=25&after=t3_c0jwlq\n",
      "https://old.reddit.com/r/nottheonion/new.json?count=25&after=t3_bzw545\n",
      "https://old.reddit.com/r/nottheonion/new.json?count=25&after=t3_bywk7h\n",
      "https://old.reddit.com/r/nottheonion/new.json?count=25&after=t3_by3mws\n",
      "https://old.reddit.com/r/nottheonion/new.json?count=25&after=t3_bxugkq\n",
      "https://old.reddit.com/r/nottheonion/new.json?count=25&after=t3_bxg4y9\n",
      "https://old.reddit.com/r/nottheonion/new.json?count=25&after=t3_bwzp4v\n",
      "https://old.reddit.com/r/nottheonion/new.json?count=25&after=t3_bwp8e2\n",
      "https://old.reddit.com/r/nottheonion/new.json?count=25&after=t3_bvr0kd\n",
      "https://old.reddit.com/r/nottheonion/new.json?count=25&after=t3_bvcye5\n",
      "https://old.reddit.com/r/nottheonion/new.json?count=25&after=t3_buimqd\n",
      "https://old.reddit.com/r/nottheonion/new.json?count=25&after=t3_bsvalp\n",
      "https://old.reddit.com/r/nottheonion/new.json?count=25&after=t3_brzs6c\n",
      "https://old.reddit.com/r/nottheonion/new.json?count=25&after=t3_bqdogd\n",
      "https://old.reddit.com/r/nottheonion/new.json?count=25&after=t3_bpey9t\n",
      "https://old.reddit.com/r/nottheonion/new.json?count=25&after=t3_boyygf\n",
      "https://old.reddit.com/r/nottheonion/new.json?count=25&after=t3_bok1vz\n",
      "https://old.reddit.com/r/nottheonion/new.json?count=25&after=t3_bny3mp\n",
      "https://old.reddit.com/r/nottheonion/new.json?count=25&after=t3_bnez24\n",
      "https://old.reddit.com/r/nottheonion/new.json?count=25&after=t3_bn6qbb\n",
      "https://old.reddit.com/r/nottheonion/new.json?count=25&after=t3_bn1c4n\n",
      "https://old.reddit.com/r/nottheonion/new.json?count=25&after=t3_bmoryf\n",
      "https://old.reddit.com/r/nottheonion/new.json?count=25&after=t3_bmaq42\n",
      "https://old.reddit.com/r/nottheonion/new.json?count=25&after=t3_bly5gy\n",
      "https://old.reddit.com/r/nottheonion/new.json?count=25&after=t3_blh72g\n",
      "https://old.reddit.com/r/nottheonion/new.json?count=25&after=t3_bkcim0\n",
      "https://old.reddit.com/r/nottheonion/new.json?count=25&after=t3_bk1boy\n",
      "https://old.reddit.com/r/nottheonion/new.json\n",
      "https://old.reddit.com/r/nottheonion/new.json?count=25&after=t3_cbo1y3\n",
      "https://old.reddit.com/r/nottheonion/new.json?count=25&after=t3_cbfwl0\n",
      "https://old.reddit.com/r/nottheonion/new.json?count=25&after=t3_cb2rhl\n",
      "https://old.reddit.com/r/nottheonion/new.json?count=25&after=t3_c9smfy\n",
      "https://old.reddit.com/r/nottheonion/new.json?count=25&after=t3_c8xhgq\n",
      "https://old.reddit.com/r/nottheonion/new.json?count=25&after=t3_c6ot6w\n",
      "https://old.reddit.com/r/nottheonion/new.json?count=25&after=t3_c4aijp\n",
      "https://old.reddit.com/r/nottheonion/new.json?count=25&after=t3_c2uu3b\n",
      "https://old.reddit.com/r/nottheonion/new.json?count=25&after=t3_c0yoei\n",
      "https://old.reddit.com/r/nottheonion/new.json?count=25&after=t3_c0jwlq\n",
      "https://old.reddit.com/r/nottheonion/new.json?count=25&after=t3_bzw545\n",
      "https://old.reddit.com/r/nottheonion/new.json?count=25&after=t3_bywk7h\n",
      "https://old.reddit.com/r/nottheonion/new.json?count=25&after=t3_by3mws\n",
      "https://old.reddit.com/r/nottheonion/new.json?count=25&after=t3_bxugkq\n",
      "https://old.reddit.com/r/nottheonion/new.json?count=25&after=t3_bxg4y9\n",
      "https://old.reddit.com/r/nottheonion/new.json?count=25&after=t3_bwzp4v\n",
      "https://old.reddit.com/r/nottheonion/new.json?count=25&after=t3_bwp8e2\n",
      "https://old.reddit.com/r/nottheonion/new.json?count=25&after=t3_bvr0kd\n",
      "https://old.reddit.com/r/nottheonion/new.json?count=25&after=t3_bvcye5\n",
      "https://old.reddit.com/r/nottheonion/new.json?count=25&after=t3_buimqd\n",
      "https://old.reddit.com/r/nottheonion/new.json?count=25&after=t3_bsvalp\n",
      "https://old.reddit.com/r/nottheonion/new.json?count=25&after=t3_brzs6c\n"
     ]
    }
   ],
   "source": [
    "nto = sub_query('nottheonion', sub_new, nto)"
   ]
  },
  {
   "cell_type": "code",
   "execution_count": 12,
   "metadata": {},
   "outputs": [],
   "source": [
    "news_text = combine_text(news)"
   ]
  },
  {
   "cell_type": "code",
   "execution_count": 13,
   "metadata": {},
   "outputs": [],
   "source": [
    "nto_text = combine_text(nto)"
   ]
  },
  {
   "cell_type": "code",
   "execution_count": 14,
   "metadata": {},
   "outputs": [],
   "source": [
    "news_df = pd.DataFrame(news_text, columns=['text'])\n",
    "news_df['is_news']= 1"
   ]
  },
  {
   "cell_type": "code",
   "execution_count": 15,
   "metadata": {},
   "outputs": [],
   "source": [
    "nto_df = pd.DataFrame(nto_text, columns=['text'])\n",
    "nto_df['is_news']= 0"
   ]
  },
  {
   "cell_type": "code",
   "execution_count": 16,
   "metadata": {},
   "outputs": [],
   "source": [
    "reddit = pd.concat([news_df, nto_df], ignore_index=True)"
   ]
  },
  {
   "cell_type": "code",
   "execution_count": 17,
   "metadata": {},
   "outputs": [
    {
     "data": {
      "text/plain": [
       "0    4335\n",
       "1    4310\n",
       "Name: is_news, dtype: int64"
      ]
     },
     "execution_count": 17,
     "metadata": {},
     "output_type": "execute_result"
    }
   ],
   "source": [
    "reddit['is_news'].value_counts()"
   ]
  },
  {
   "cell_type": "code",
   "execution_count": 18,
   "metadata": {},
   "outputs": [
    {
     "data": {
      "text/plain": [
       "(8645, 2)"
      ]
     },
     "execution_count": 18,
     "metadata": {},
     "output_type": "execute_result"
    }
   ],
   "source": [
    "reddit.shape"
   ]
  },
  {
   "cell_type": "code",
   "execution_count": 19,
   "metadata": {},
   "outputs": [],
   "source": [
    "reddit = reddit.drop_duplicates()"
   ]
  },
  {
   "cell_type": "code",
   "execution_count": 20,
   "metadata": {},
   "outputs": [
    {
     "data": {
      "text/plain": [
       "(3073, 2)"
      ]
     },
     "execution_count": 20,
     "metadata": {},
     "output_type": "execute_result"
    }
   ],
   "source": [
    "reddit.shape"
   ]
  },
  {
   "cell_type": "code",
   "execution_count": 21,
   "metadata": {},
   "outputs": [
    {
     "data": {
      "text/plain": [
       "0    0.592255\n",
       "1    0.407745\n",
       "Name: is_news, dtype: float64"
      ]
     },
     "execution_count": 21,
     "metadata": {},
     "output_type": "execute_result"
    }
   ],
   "source": [
    "reddit['is_news'].value_counts(normalize=True)"
   ]
  },
  {
   "cell_type": "code",
   "execution_count": 22,
   "metadata": {},
   "outputs": [],
   "source": [
    "reddit.to_csv('./datasets/reddit_3.csv', index=False)"
   ]
  },
  {
   "cell_type": "code",
   "execution_count": null,
   "metadata": {},
   "outputs": [],
   "source": []
  }
 ],
 "metadata": {
  "kernelspec": {
   "display_name": "Python 3",
   "language": "python",
   "name": "python3"
  },
  "language_info": {
   "codemirror_mode": {
    "name": "ipython",
    "version": 3
   },
   "file_extension": ".py",
   "mimetype": "text/x-python",
   "name": "python",
   "nbconvert_exporter": "python",
   "pygments_lexer": "ipython3",
   "version": "3.7.3"
  }
 },
 "nbformat": 4,
 "nbformat_minor": 2
}
