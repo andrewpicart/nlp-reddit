{
 "cells": [
  {
   "cell_type": "code",
   "execution_count": 1,
   "metadata": {},
   "outputs": [],
   "source": [
    "import requests, json, time, re\n",
    "import pandas as pd\n",
    "import numpy as np\n",
    "from sklearn.feature_extraction.text import TfidfVectorizer\n",
    "from sklearn.ensemble import RandomForestClassifier\n",
    "from sklearn.model_selection import train_test_split, GridSearchCV\n",
    "import matplotlib.pyplot as plt"
   ]
  },
  {
   "cell_type": "code",
   "execution_count": 2,
   "metadata": {},
   "outputs": [],
   "source": [
    "sub_all = '/top.json?t=all'\n",
    "sub_gilded = '/gilded.json'\n",
    "sub_hot = '.json'"
   ]
  },
  {
   "cell_type": "code",
   "execution_count": 3,
   "metadata": {},
   "outputs": [],
   "source": [
    "sub_new = '/new.json'"
   ]
  },
  {
   "cell_type": "code",
   "execution_count": 4,
   "metadata": {},
   "outputs": [],
   "source": [
    "# adapted code for Adi\n",
    "# posts is the returned dictionary (should pass in previously ran `posts`)\n",
    "# subreddit = url string \n",
    "# subpage = the page on the subreddit (should be already defined)\n",
    "def sub_query(subreddit, subpage, posts=None, pages=40):\n",
    "    \n",
    "    #Step 0: set initial conditions\n",
    "    if posts == None:\n",
    "        posts = []\n",
    "    else:\n",
    "        posts = posts\n",
    "    url = f'https://old.reddit.com/r/{subreddit}{subpage}'\n",
    "    after = None\n",
    "\n",
    "    #Step 1: build the loop and print URL\n",
    "    for _ in range(pages):\n",
    "        if after == None:\n",
    "            current_url = url\n",
    "        elif subpage == '/top.json?t=all':\n",
    "            current_url = url + '&after=' + after\n",
    "        else:\n",
    "            current_url = url + '?count=25&after=' + after\n",
    "\n",
    "        print(current_url)\n",
    "\n",
    "        #Step 2a: make the requests and handle status code. Add time.sleep now (2.b)\n",
    "        res = requests.get(current_url, headers={'User-agent': 'hehehehe'})\n",
    "\n",
    "        if res.status_code != 200:\n",
    "            print('Status error', res.status_code)\n",
    "            break\n",
    "\n",
    "        #Step 3: Actually deal with the data   \n",
    "        current_dict = res.json()\n",
    "        current_posts = [p['data'] for p in current_dict['data']['children']]\n",
    "        posts.extend(current_posts)\n",
    "\n",
    "        after = current_dict['data']['after']\n",
    "\n",
    "        #Step 2b:\n",
    "        time.sleep(0.75)\n",
    "\n",
    "    return posts"
   ]
  },
  {
   "cell_type": "code",
   "execution_count": 5,
   "metadata": {},
   "outputs": [
    {
     "name": "stdout",
     "output_type": "stream",
     "text": [
      "https://old.reddit.com/r/tifu/top.json?t=all\n",
      "https://old.reddit.com/r/tifu/top.json?t=all&after=t3_a364ea\n",
      "https://old.reddit.com/r/tifu/top.json?t=all&after=t3_9guiia\n",
      "https://old.reddit.com/r/tifu/top.json?t=all&after=t3_6zpf6k\n",
      "https://old.reddit.com/r/tifu/top.json?t=all&after=t3_c7tjlr\n",
      "https://old.reddit.com/r/tifu/top.json?t=all&after=t3_9i2mm4\n",
      "https://old.reddit.com/r/tifu/top.json?t=all&after=t3_c9kxx6\n",
      "https://old.reddit.com/r/tifu/top.json?t=all&after=t3_ax820y\n",
      "https://old.reddit.com/r/tifu/top.json?t=all&after=t3_b1o3uc\n",
      "https://old.reddit.com/r/tifu/top.json?t=all&after=t3_a5ya70\n",
      "https://old.reddit.com/r/tifu/top.json?t=all&after=t3_acwflt\n",
      "https://old.reddit.com/r/tifu/top.json?t=all&after=t3_by813n\n",
      "https://old.reddit.com/r/tifu/top.json?t=all&after=t3_a4lzul\n",
      "https://old.reddit.com/r/tifu/top.json?t=all&after=t3_4yyms8\n",
      "https://old.reddit.com/r/tifu/top.json?t=all&after=t3_87tv21\n",
      "https://old.reddit.com/r/tifu/top.json?t=all&after=t3_a5uilz\n",
      "https://old.reddit.com/r/tifu/top.json?t=all&after=t3_al7x5c\n",
      "https://old.reddit.com/r/tifu/top.json?t=all&after=t3_9tv73v\n",
      "https://old.reddit.com/r/tifu/top.json?t=all&after=t3_8g33nv\n",
      "https://old.reddit.com/r/tifu/top.json?t=all&after=t3_876ob2\n",
      "https://old.reddit.com/r/tifu/top.json?t=all&after=t3_90bz0g\n",
      "https://old.reddit.com/r/tifu/top.json?t=all&after=t3_8xaam8\n",
      "https://old.reddit.com/r/tifu/top.json?t=all&after=t3_bw94ci\n",
      "https://old.reddit.com/r/tifu/top.json?t=all&after=t3_8d3sqi\n",
      "https://old.reddit.com/r/tifu/top.json?t=all&after=t3_7oksj2\n",
      "https://old.reddit.com/r/tifu/top.json?t=all&after=t3_7pflda\n",
      "https://old.reddit.com/r/tifu/top.json?t=all&after=t3_67wfoc\n",
      "https://old.reddit.com/r/tifu/top.json?t=all&after=t3_c4b7eh\n",
      "https://old.reddit.com/r/tifu/top.json?t=all&after=t3_aontw8\n",
      "https://old.reddit.com/r/tifu/top.json?t=all&after=t3_55my5s\n",
      "https://old.reddit.com/r/tifu/top.json?t=all&after=t3_7vr02m\n",
      "https://old.reddit.com/r/tifu/top.json?t=all&after=t3_9kuza2\n",
      "https://old.reddit.com/r/tifu/top.json?t=all&after=t3_8r1imb\n",
      "https://old.reddit.com/r/tifu/top.json?t=all&after=t3_70ip1y\n",
      "https://old.reddit.com/r/tifu/top.json?t=all&after=t3_7nf7wo\n",
      "https://old.reddit.com/r/tifu/top.json?t=all&after=t3_6xxn10\n",
      "https://old.reddit.com/r/tifu/top.json?t=all&after=t3_c0m5yl\n",
      "https://old.reddit.com/r/tifu/top.json?t=all&after=t3_at3ycj\n",
      "https://old.reddit.com/r/tifu/top.json?t=all&after=t3_6u9p5b\n",
      "https://old.reddit.com/r/tifu/top.json?t=all&after=t3_69hrde\n"
     ]
    }
   ],
   "source": [
    "tifu = sub_query('tifu', sub_all)"
   ]
  },
  {
   "cell_type": "code",
   "execution_count": 6,
   "metadata": {},
   "outputs": [
    {
     "name": "stdout",
     "output_type": "stream",
     "text": [
      "https://old.reddit.com/r/tifu.json\n",
      "https://old.reddit.com/r/tifu.json?count=25&after=t3_cblsfx\n",
      "https://old.reddit.com/r/tifu.json?count=25&after=t3_cbl08u\n",
      "https://old.reddit.com/r/tifu.json?count=25&after=t3_cbhehs\n",
      "https://old.reddit.com/r/tifu.json?count=25&after=t3_cb9hd3\n",
      "https://old.reddit.com/r/tifu.json?count=25&after=t3_cbh45t\n",
      "https://old.reddit.com/r/tifu.json?count=25&after=t3_cb635l\n",
      "https://old.reddit.com/r/tifu.json?count=25&after=t3_canwrx\n",
      "https://old.reddit.com/r/tifu.json?count=25&after=t3_caxhrk\n",
      "https://old.reddit.com/r/tifu.json?count=25&after=t3_car3f4\n",
      "https://old.reddit.com/r/tifu.json?count=25&after=t3_cacnvw\n",
      "https://old.reddit.com/r/tifu.json?count=25&after=t3_camgtb\n",
      "https://old.reddit.com/r/tifu.json?count=25&after=t3_ca6oyr\n",
      "https://old.reddit.com/r/tifu.json?count=25&after=t3_ca4hxr\n",
      "https://old.reddit.com/r/tifu.json?count=25&after=t3_ca17pz\n",
      "https://old.reddit.com/r/tifu.json?count=25&after=t3_ca1i1g\n",
      "https://old.reddit.com/r/tifu.json?count=25&after=t3_c9mnbc\n",
      "https://old.reddit.com/r/tifu.json?count=25&after=t3_c9thpk\n",
      "https://old.reddit.com/r/tifu.json?count=25&after=t3_c9mk35\n",
      "https://old.reddit.com/r/tifu.json?count=25&after=t3_c8xtnu\n",
      "https://old.reddit.com/r/tifu.json?count=25&after=t3_c9bvr7\n",
      "https://old.reddit.com/r/tifu.json?count=25&after=t3_c969lx\n",
      "https://old.reddit.com/r/tifu.json?count=25&after=t3_c99odc\n",
      "https://old.reddit.com/r/tifu.json?count=25&after=t3_c9cs7g\n",
      "https://old.reddit.com/r/tifu.json?count=25&after=t3_c8uf8k\n",
      "https://old.reddit.com/r/tifu.json\n",
      "https://old.reddit.com/r/tifu.json?count=25&after=t3_cblsfx\n",
      "https://old.reddit.com/r/tifu.json?count=25&after=t3_cbl08u\n",
      "https://old.reddit.com/r/tifu.json?count=25&after=t3_cbhehs\n",
      "https://old.reddit.com/r/tifu.json?count=25&after=t3_cb9hd3\n",
      "https://old.reddit.com/r/tifu.json?count=25&after=t3_cbh45t\n",
      "https://old.reddit.com/r/tifu.json?count=25&after=t3_cb635l\n",
      "https://old.reddit.com/r/tifu.json?count=25&after=t3_canwrx\n",
      "https://old.reddit.com/r/tifu.json?count=25&after=t3_caxhrk\n",
      "https://old.reddit.com/r/tifu.json?count=25&after=t3_car3f4\n",
      "https://old.reddit.com/r/tifu.json?count=25&after=t3_cacnvw\n",
      "https://old.reddit.com/r/tifu.json?count=25&after=t3_camgtb\n",
      "https://old.reddit.com/r/tifu.json?count=25&after=t3_ca6oyr\n",
      "https://old.reddit.com/r/tifu.json?count=25&after=t3_ca4hxr\n",
      "https://old.reddit.com/r/tifu.json?count=25&after=t3_ca17pz\n"
     ]
    }
   ],
   "source": [
    "tifu = sub_query('tifu', sub_hot, tifu)"
   ]
  },
  {
   "cell_type": "code",
   "execution_count": 7,
   "metadata": {},
   "outputs": [
    {
     "name": "stdout",
     "output_type": "stream",
     "text": [
      "https://old.reddit.com/r/tifu/new.json\n",
      "https://old.reddit.com/r/tifu/new.json?count=25&after=t3_cblco9\n",
      "https://old.reddit.com/r/tifu/new.json?count=25&after=t3_cbhehs\n",
      "https://old.reddit.com/r/tifu/new.json?count=25&after=t3_cbcws8\n",
      "https://old.reddit.com/r/tifu/new.json?count=25&after=t3_cb8y09\n",
      "https://old.reddit.com/r/tifu/new.json?count=25&after=t3_cb5tqy\n",
      "https://old.reddit.com/r/tifu/new.json?count=25&after=t3_cb29bs\n",
      "https://old.reddit.com/r/tifu/new.json?count=25&after=t3_caxml3\n",
      "https://old.reddit.com/r/tifu/new.json?count=25&after=t3_cas8nl\n",
      "https://old.reddit.com/r/tifu/new.json?count=25&after=t3_canz9n\n",
      "https://old.reddit.com/r/tifu/new.json?count=25&after=t3_caizfb\n",
      "https://old.reddit.com/r/tifu/new.json?count=25&after=t3_caf9zg\n",
      "https://old.reddit.com/r/tifu/new.json?count=25&after=t3_cac4ih\n",
      "https://old.reddit.com/r/tifu/new.json?count=25&after=t3_ca4bez\n",
      "https://old.reddit.com/r/tifu/new.json?count=25&after=t3_ca0ib4\n",
      "https://old.reddit.com/r/tifu/new.json?count=25&after=t3_c9vi4p\n",
      "https://old.reddit.com/r/tifu/new.json?count=25&after=t3_c9q8bx\n",
      "https://old.reddit.com/r/tifu/new.json?count=25&after=t3_c9mqba\n",
      "https://old.reddit.com/r/tifu/new.json?count=25&after=t3_c9i3jc\n",
      "https://old.reddit.com/r/tifu/new.json?count=25&after=t3_c9cs7g\n",
      "https://old.reddit.com/r/tifu/new.json?count=25&after=t3_c99nkl\n",
      "https://old.reddit.com/r/tifu/new.json?count=25&after=t3_c95pta\n",
      "https://old.reddit.com/r/tifu/new.json?count=25&after=t3_c8zti8\n",
      "https://old.reddit.com/r/tifu/new.json?count=25&after=t3_c8wnw4\n",
      "https://old.reddit.com/r/tifu/new.json?count=25&after=t3_c8roah\n",
      "https://old.reddit.com/r/tifu/new.json?count=25&after=t3_c8ngjb\n",
      "https://old.reddit.com/r/tifu/new.json?count=25&after=t3_c8ihd0\n",
      "https://old.reddit.com/r/tifu/new.json?count=25&after=t3_c8f5w9\n",
      "https://old.reddit.com/r/tifu/new.json?count=25&after=t3_c8bgvf\n",
      "https://old.reddit.com/r/tifu/new.json?count=25&after=t3_c86bse\n",
      "https://old.reddit.com/r/tifu/new.json?count=25&after=t3_c82beo\n",
      "https://old.reddit.com/r/tifu/new.json?count=25&after=t3_c7zck4\n",
      "https://old.reddit.com/r/tifu/new.json?count=25&after=t3_c7tjlr\n",
      "https://old.reddit.com/r/tifu/new.json?count=25&after=t3_c7nedc\n",
      "https://old.reddit.com/r/tifu/new.json?count=25&after=t3_c7j7wh\n",
      "https://old.reddit.com/r/tifu/new.json?count=25&after=t3_c7e77r\n",
      "https://old.reddit.com/r/tifu/new.json?count=25&after=t3_c77v1t\n",
      "https://old.reddit.com/r/tifu/new.json?count=25&after=t3_c73x6y\n",
      "https://old.reddit.com/r/tifu/new.json?count=25&after=t3_c704ao\n",
      "https://old.reddit.com/r/tifu/new.json?count=25&after=t3_c6vf0x\n"
     ]
    }
   ],
   "source": [
    "tifu = sub_query('tifu', sub_new, tifu)"
   ]
  },
  {
   "cell_type": "code",
   "execution_count": 8,
   "metadata": {},
   "outputs": [],
   "source": [
    "def combine_text(posts):\n",
    "    return[' '.join([post['title'], post['selftext']]) for post in posts] # build this out to a function"
   ]
  },
  {
   "cell_type": "code",
   "execution_count": 9,
   "metadata": {},
   "outputs": [
    {
     "name": "stdout",
     "output_type": "stream",
     "text": [
      "https://old.reddit.com/r/AmItheAsshole/top.json?t=all\n",
      "https://old.reddit.com/r/AmItheAsshole/top.json?t=all&after=t3_brov5g\n",
      "https://old.reddit.com/r/AmItheAsshole/top.json?t=all&after=t3_achoyx\n",
      "https://old.reddit.com/r/AmItheAsshole/top.json?t=all&after=t3_b9swi6\n",
      "https://old.reddit.com/r/AmItheAsshole/top.json?t=all&after=t3_b2za6i\n",
      "https://old.reddit.com/r/AmItheAsshole/top.json?t=all&after=t3_c4p4b9\n",
      "https://old.reddit.com/r/AmItheAsshole/top.json?t=all&after=t3_bhz0i8\n",
      "https://old.reddit.com/r/AmItheAsshole/top.json?t=all&after=t3_b6qtzb\n",
      "https://old.reddit.com/r/AmItheAsshole/top.json?t=all&after=t3_bmvxbh\n",
      "https://old.reddit.com/r/AmItheAsshole/top.json?t=all&after=t3_bl5wr6\n",
      "https://old.reddit.com/r/AmItheAsshole/top.json?t=all&after=t3_az0ydl\n",
      "https://old.reddit.com/r/AmItheAsshole/top.json?t=all&after=t3_bvook2\n",
      "https://old.reddit.com/r/AmItheAsshole/top.json?t=all&after=t3_ba8yv4\n",
      "https://old.reddit.com/r/AmItheAsshole/top.json?t=all&after=t3_awnjmv\n",
      "https://old.reddit.com/r/AmItheAsshole/top.json?t=all&after=t3_aq5jde\n",
      "https://old.reddit.com/r/AmItheAsshole/top.json?t=all&after=t3_bcpuwt\n",
      "https://old.reddit.com/r/AmItheAsshole/top.json?t=all&after=t3_app91s\n",
      "https://old.reddit.com/r/AmItheAsshole/top.json?t=all&after=t3_aht3zd\n",
      "https://old.reddit.com/r/AmItheAsshole/top.json?t=all&after=t3_c6q5iu\n",
      "https://old.reddit.com/r/AmItheAsshole/top.json?t=all&after=t3_bqaqq7\n",
      "https://old.reddit.com/r/AmItheAsshole/top.json?t=all&after=t3_aqdxii\n",
      "https://old.reddit.com/r/AmItheAsshole/top.json?t=all&after=t3_bhfzgp\n",
      "https://old.reddit.com/r/AmItheAsshole/top.json?t=all&after=t3_bdxek2\n",
      "https://old.reddit.com/r/AmItheAsshole/top.json?t=all&after=t3_afvbja\n",
      "https://old.reddit.com/r/AmItheAsshole/top.json?t=all&after=t3_abq93c\n",
      "https://old.reddit.com/r/AmItheAsshole/top.json?t=all&after=t3_a3n1b4\n",
      "https://old.reddit.com/r/AmItheAsshole/top.json?t=all&after=t3_c7qqpw\n",
      "https://old.reddit.com/r/AmItheAsshole/top.json?t=all&after=t3_bn4hl6\n",
      "https://old.reddit.com/r/AmItheAsshole/top.json?t=all&after=t3_brb5g9\n",
      "https://old.reddit.com/r/AmItheAsshole/top.json?t=all&after=t3_c0s6fr\n",
      "https://old.reddit.com/r/AmItheAsshole/top.json?t=all&after=t3_bhqrz9\n",
      "https://old.reddit.com/r/AmItheAsshole/top.json?t=all&after=t3_bn62w6\n",
      "https://old.reddit.com/r/AmItheAsshole/top.json?t=all&after=t3_bvqo3r\n",
      "https://old.reddit.com/r/AmItheAsshole/top.json?t=all&after=t3_ai1i0m\n",
      "https://old.reddit.com/r/AmItheAsshole/top.json?t=all&after=t3_bwc42f\n",
      "https://old.reddit.com/r/AmItheAsshole/top.json?t=all&after=t3_b5jdwq\n",
      "https://old.reddit.com/r/AmItheAsshole/top.json?t=all&after=t3_bo9w0b\n",
      "https://old.reddit.com/r/AmItheAsshole/top.json?t=all&after=t3_b7ce3b\n",
      "https://old.reddit.com/r/AmItheAsshole/top.json?t=all&after=t3_ca4bbq\n",
      "https://old.reddit.com/r/AmItheAsshole/top.json?t=all\n"
     ]
    }
   ],
   "source": [
    "aita = sub_query('AmItheAsshole', sub_all)"
   ]
  },
  {
   "cell_type": "code",
   "execution_count": 10,
   "metadata": {},
   "outputs": [
    {
     "name": "stdout",
     "output_type": "stream",
     "text": [
      "https://old.reddit.com/r/AmItheAsshole.json\n",
      "https://old.reddit.com/r/AmItheAsshole.json?count=25&after=t3_cbfwpz\n",
      "https://old.reddit.com/r/AmItheAsshole.json?count=25&after=t3_cbg9hn\n",
      "https://old.reddit.com/r/AmItheAsshole.json?count=25&after=t3_cbotoo\n",
      "https://old.reddit.com/r/AmItheAsshole.json?count=25&after=t3_cbplzq\n",
      "https://old.reddit.com/r/AmItheAsshole.json?count=25&after=t3_cbonyx\n",
      "https://old.reddit.com/r/AmItheAsshole.json?count=25&after=t3_cbnqyw\n",
      "https://old.reddit.com/r/AmItheAsshole.json?count=25&after=t3_cboqna\n",
      "https://old.reddit.com/r/AmItheAsshole.json?count=25&after=t3_cbmy97\n",
      "https://old.reddit.com/r/AmItheAsshole.json?count=25&after=t3_cboiya\n",
      "https://old.reddit.com/r/AmItheAsshole.json?count=25&after=t3_cbmpzm\n",
      "https://old.reddit.com/r/AmItheAsshole.json?count=25&after=t3_cbn7mr\n",
      "https://old.reddit.com/r/AmItheAsshole.json?count=25&after=t3_cbkgub\n",
      "https://old.reddit.com/r/AmItheAsshole.json?count=25&after=t3_cb3ih5\n",
      "https://old.reddit.com/r/AmItheAsshole.json?count=25&after=t3_cbpa44\n",
      "https://old.reddit.com/r/AmItheAsshole.json?count=25&after=t3_cboji3\n",
      "https://old.reddit.com/r/AmItheAsshole.json?count=25&after=t3_cbj639\n",
      "https://old.reddit.com/r/AmItheAsshole.json?count=25&after=t3_cavl5d\n",
      "https://old.reddit.com/r/AmItheAsshole.json?count=25&after=t3_cblzft\n",
      "https://old.reddit.com/r/AmItheAsshole.json?count=25&after=t3_cbgo51\n",
      "https://old.reddit.com/r/AmItheAsshole.json?count=25&after=t3_cbklhs\n",
      "https://old.reddit.com/r/AmItheAsshole.json?count=25&after=t3_cb3lxd\n",
      "https://old.reddit.com/r/AmItheAsshole.json?count=25&after=t3_cbeelk\n",
      "https://old.reddit.com/r/AmItheAsshole.json?count=25&after=t3_cb79rs\n",
      "https://old.reddit.com/r/AmItheAsshole.json?count=25&after=t3_cb7e5d\n",
      "https://old.reddit.com/r/AmItheAsshole.json?count=25&after=t3_cbjcth\n",
      "https://old.reddit.com/r/AmItheAsshole.json?count=25&after=t3_cbl3s1\n",
      "https://old.reddit.com/r/AmItheAsshole.json?count=25&after=t3_cb7rq1\n",
      "https://old.reddit.com/r/AmItheAsshole.json?count=25&after=t3_cb8s28\n",
      "https://old.reddit.com/r/AmItheAsshole.json?count=25&after=t3_cau8av\n",
      "https://old.reddit.com/r/AmItheAsshole.json?count=25&after=t3_cb29h3\n",
      "https://old.reddit.com/r/AmItheAsshole.json?count=25&after=t3_caqv0a\n",
      "https://old.reddit.com/r/AmItheAsshole.json?count=25&after=t3_camksh\n",
      "https://old.reddit.com/r/AmItheAsshole.json?count=25&after=t3_cbhiv1\n",
      "https://old.reddit.com/r/AmItheAsshole.json?count=25&after=t3_cb6j46\n",
      "https://old.reddit.com/r/AmItheAsshole.json\n",
      "https://old.reddit.com/r/AmItheAsshole.json?count=25&after=t3_cbfwpz\n",
      "https://old.reddit.com/r/AmItheAsshole.json?count=25&after=t3_cbg9hn\n",
      "https://old.reddit.com/r/AmItheAsshole.json?count=25&after=t3_cbotoo\n",
      "https://old.reddit.com/r/AmItheAsshole.json?count=25&after=t3_cbplzq\n"
     ]
    }
   ],
   "source": [
    "aita = sub_query('AmItheAsshole', sub_hot, aita)"
   ]
  },
  {
   "cell_type": "code",
   "execution_count": 11,
   "metadata": {},
   "outputs": [
    {
     "name": "stdout",
     "output_type": "stream",
     "text": [
      "https://old.reddit.com/r/AmItheAsshole/new.json\n",
      "https://old.reddit.com/r/AmItheAsshole/new.json?count=25&after=t3_cbpt4m\n",
      "https://old.reddit.com/r/AmItheAsshole/new.json?count=25&after=t3_cbp87f\n",
      "https://old.reddit.com/r/AmItheAsshole/new.json?count=25&after=t3_cboqa5\n",
      "https://old.reddit.com/r/AmItheAsshole/new.json?count=25&after=t3_cboi5b\n",
      "https://old.reddit.com/r/AmItheAsshole/new.json?count=25&after=t3_cbo169\n",
      "https://old.reddit.com/r/AmItheAsshole/new.json?count=25&after=t3_cbnjli\n",
      "https://old.reddit.com/r/AmItheAsshole/new.json?count=25&after=t3_cbmrja\n",
      "https://old.reddit.com/r/AmItheAsshole/new.json?count=25&after=t3_cbm8ev\n",
      "https://old.reddit.com/r/AmItheAsshole/new.json?count=25&after=t3_cbls7k\n",
      "https://old.reddit.com/r/AmItheAsshole/new.json?count=25&after=t3_cbl7bk\n",
      "https://old.reddit.com/r/AmItheAsshole/new.json?count=25&after=t3_cbknr5\n",
      "https://old.reddit.com/r/AmItheAsshole/new.json?count=25&after=t3_cbjyyj\n",
      "https://old.reddit.com/r/AmItheAsshole/new.json?count=25&after=t3_cbjer0\n",
      "https://old.reddit.com/r/AmItheAsshole/new.json?count=25&after=t3_cbj08r\n",
      "https://old.reddit.com/r/AmItheAsshole/new.json?count=25&after=t3_cbi6rw\n",
      "https://old.reddit.com/r/AmItheAsshole/new.json?count=25&after=t3_cbhlr6\n",
      "https://old.reddit.com/r/AmItheAsshole/new.json?count=25&after=t3_cbh0sd\n",
      "https://old.reddit.com/r/AmItheAsshole/new.json?count=25&after=t3_cbg9rp\n",
      "https://old.reddit.com/r/AmItheAsshole/new.json?count=25&after=t3_cbf0jq\n",
      "https://old.reddit.com/r/AmItheAsshole/new.json?count=25&after=t3_cbdu7l\n",
      "https://old.reddit.com/r/AmItheAsshole/new.json?count=25&after=t3_cbctvc\n",
      "https://old.reddit.com/r/AmItheAsshole/new.json?count=25&after=t3_cbc1ub\n",
      "https://old.reddit.com/r/AmItheAsshole/new.json?count=25&after=t3_cbbe6a\n",
      "https://old.reddit.com/r/AmItheAsshole/new.json?count=25&after=t3_cbat3p\n",
      "https://old.reddit.com/r/AmItheAsshole/new.json?count=25&after=t3_cbab13\n",
      "https://old.reddit.com/r/AmItheAsshole/new.json?count=25&after=t3_cb9j5e\n",
      "https://old.reddit.com/r/AmItheAsshole/new.json?count=25&after=t3_cb8vb2\n",
      "https://old.reddit.com/r/AmItheAsshole/new.json?count=25&after=t3_cb8cqu\n",
      "https://old.reddit.com/r/AmItheAsshole/new.json?count=25&after=t3_cb7wrg\n",
      "https://old.reddit.com/r/AmItheAsshole/new.json?count=25&after=t3_cb7b94\n",
      "https://old.reddit.com/r/AmItheAsshole/new.json?count=25&after=t3_cb6njn\n",
      "https://old.reddit.com/r/AmItheAsshole/new.json?count=25&after=t3_cb60e7\n",
      "https://old.reddit.com/r/AmItheAsshole/new.json?count=25&after=t3_cb5emo\n",
      "https://old.reddit.com/r/AmItheAsshole/new.json?count=25&after=t3_cb4ps9\n",
      "https://old.reddit.com/r/AmItheAsshole/new.json?count=25&after=t3_cb3zsj\n",
      "https://old.reddit.com/r/AmItheAsshole/new.json?count=25&after=t3_cb3a21\n",
      "https://old.reddit.com/r/AmItheAsshole/new.json?count=25&after=t3_cb2ucr\n",
      "https://old.reddit.com/r/AmItheAsshole/new.json?count=25&after=t3_cb21kv\n",
      "https://old.reddit.com/r/AmItheAsshole/new.json?count=25&after=t3_cb1ds7\n"
     ]
    }
   ],
   "source": [
    "aita = sub_query('AmItheAsshole', sub_new, aita)"
   ]
  },
  {
   "cell_type": "code",
   "execution_count": 12,
   "metadata": {},
   "outputs": [],
   "source": [
    "tifu_text = combine_text(tifu)"
   ]
  },
  {
   "cell_type": "code",
   "execution_count": 13,
   "metadata": {},
   "outputs": [],
   "source": [
    "aita_text = combine_text(aita)"
   ]
  },
  {
   "cell_type": "code",
   "execution_count": 14,
   "metadata": {},
   "outputs": [],
   "source": [
    "tifu_df = pd.DataFrame(tifu_text, columns=['text'])\n",
    "tifu_df['is_tifu']= 1"
   ]
  },
  {
   "cell_type": "code",
   "execution_count": 15,
   "metadata": {},
   "outputs": [],
   "source": [
    "aita_df = pd.DataFrame(aita_text, columns=['text'])\n",
    "aita_df['is_tifu']= 0"
   ]
  },
  {
   "cell_type": "code",
   "execution_count": 16,
   "metadata": {},
   "outputs": [],
   "source": [
    "reddit = pd.concat([tifu_df, aita_df], ignore_index=True)"
   ]
  },
  {
   "cell_type": "code",
   "execution_count": 17,
   "metadata": {},
   "outputs": [
    {
     "data": {
      "text/plain": [
       "1    2982\n",
       "0    2976\n",
       "Name: is_tifu, dtype: int64"
      ]
     },
     "execution_count": 17,
     "metadata": {},
     "output_type": "execute_result"
    }
   ],
   "source": [
    "reddit['is_tifu'].value_counts()"
   ]
  },
  {
   "cell_type": "code",
   "execution_count": 18,
   "metadata": {},
   "outputs": [
    {
     "data": {
      "text/plain": [
       "(5958, 2)"
      ]
     },
     "execution_count": 18,
     "metadata": {},
     "output_type": "execute_result"
    }
   ],
   "source": [
    "reddit.shape"
   ]
  },
  {
   "cell_type": "code",
   "execution_count": 19,
   "metadata": {},
   "outputs": [],
   "source": [
    "reddit = reddit.drop_duplicates()"
   ]
  },
  {
   "cell_type": "code",
   "execution_count": 20,
   "metadata": {},
   "outputs": [
    {
     "data": {
      "text/plain": [
       "(3946, 2)"
      ]
     },
     "execution_count": 20,
     "metadata": {},
     "output_type": "execute_result"
    }
   ],
   "source": [
    "reddit.shape"
   ]
  },
  {
   "cell_type": "code",
   "execution_count": 21,
   "metadata": {},
   "outputs": [
    {
     "data": {
      "text/plain": [
       "0    0.502027\n",
       "1    0.497973\n",
       "Name: is_tifu, dtype: float64"
      ]
     },
     "execution_count": 21,
     "metadata": {},
     "output_type": "execute_result"
    }
   ],
   "source": [
    "reddit['is_tifu'].value_counts(normalize=True)"
   ]
  },
  {
   "cell_type": "code",
   "execution_count": 22,
   "metadata": {},
   "outputs": [],
   "source": [
    "reddit.to_csv('./datasets/reddit_2.csv', index=False)"
   ]
  },
  {
   "cell_type": "code",
   "execution_count": null,
   "metadata": {},
   "outputs": [],
   "source": []
  }
 ],
 "metadata": {
  "kernelspec": {
   "display_name": "Python 3",
   "language": "python",
   "name": "python3"
  },
  "language_info": {
   "codemirror_mode": {
    "name": "ipython",
    "version": 3
   },
   "file_extension": ".py",
   "mimetype": "text/x-python",
   "name": "python",
   "nbconvert_exporter": "python",
   "pygments_lexer": "ipython3",
   "version": "3.7.3"
  }
 },
 "nbformat": 4,
 "nbformat_minor": 2
}
