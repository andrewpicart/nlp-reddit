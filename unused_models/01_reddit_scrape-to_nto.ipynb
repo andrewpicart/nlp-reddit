{
 "cells": [
  {
   "cell_type": "code",
   "execution_count": 2,
   "metadata": {},
   "outputs": [],
   "source": [
    "import requests, json, time, re\n",
    "import pandas as pd\n",
    "import numpy as np\n",
    "from sklearn.feature_extraction.text import TfidfVectorizer\n",
    "from sklearn.ensemble import RandomForestClassifier\n",
    "from sklearn.model_selection import train_test_split, GridSearchCV\n",
    "import matplotlib.pyplot as plt"
   ]
  },
  {
   "cell_type": "code",
   "execution_count": 3,
   "metadata": {},
   "outputs": [],
   "source": [
    "sub_all = '/top.json?t=all'\n",
    "sub_gilded = '/gilded.json'\n",
    "sub_hot = '.json'"
   ]
  },
  {
   "cell_type": "code",
   "execution_count": 4,
   "metadata": {},
   "outputs": [],
   "source": [
    "sub_new = '/new.json'"
   ]
  },
  {
   "cell_type": "code",
   "execution_count": 5,
   "metadata": {},
   "outputs": [],
   "source": [
    "# adapted code for Adi\n",
    "# posts is the returned dictionary (should pass in previously ran `posts`)\n",
    "# subreddit = url string \n",
    "# subpage = the page on the subreddit (should be already defined)\n",
    "def sub_query(subreddit, subpage, posts=None, pages=60):\n",
    "    \n",
    "    #Step 0: set initial conditions\n",
    "    if posts == None:\n",
    "        posts = []\n",
    "    else:\n",
    "        posts = posts\n",
    "    url = f'https://old.reddit.com/r/{subreddit}{subpage}'\n",
    "    after = None\n",
    "\n",
    "    #Step 1: build the loop and print URL\n",
    "    for _ in range(pages):\n",
    "        if after == None:\n",
    "            current_url = url\n",
    "        elif subpage == '/top.json?t=all':\n",
    "            current_url = url + '&after=' + after\n",
    "        else:\n",
    "            current_url = url + '?count=25&after=' + after\n",
    "\n",
    "        print(current_url)\n",
    "\n",
    "        #Step 2a: make the requests and handle status code. Add time.sleep now (2.b)\n",
    "        res = requests.get(current_url, headers={'User-agent': 'hehehehe'})\n",
    "\n",
    "        if res.status_code != 200:\n",
    "            print('Status error', res.status_code)\n",
    "            break\n",
    "\n",
    "        #Step 3: Actually deal with the data   \n",
    "        current_dict = res.json()\n",
    "        current_posts = [p['data'] for p in current_dict['data']['children']]\n",
    "        posts.extend(current_posts)\n",
    "\n",
    "        after = current_dict['data']['after']\n",
    "\n",
    "        #Step 2b:\n",
    "        time.sleep(0.25)\n",
    "\n",
    "    return posts"
   ]
  },
  {
   "cell_type": "code",
   "execution_count": 6,
   "metadata": {},
   "outputs": [
    {
     "name": "stdout",
     "output_type": "stream",
     "text": [
      "https://old.reddit.com/r/theonion/top.json?t=all\n",
      "https://old.reddit.com/r/theonion/top.json?t=all&after=t3_8y0ob1\n",
      "https://old.reddit.com/r/theonion/top.json?t=all&after=t3_a3qyte\n",
      "https://old.reddit.com/r/theonion/top.json?t=all&after=t3_b9ekqj\n",
      "https://old.reddit.com/r/theonion/top.json?t=all&after=t3_bo676d\n",
      "https://old.reddit.com/r/theonion/top.json?t=all&after=t3_aqp4sb\n",
      "https://old.reddit.com/r/theonion/top.json?t=all&after=t3_bg5g1j\n",
      "https://old.reddit.com/r/theonion/top.json?t=all&after=t3_9r2707\n",
      "https://old.reddit.com/r/theonion/top.json?t=all&after=t3_b3by5b\n",
      "https://old.reddit.com/r/theonion/top.json?t=all&after=t3_9f8m59\n",
      "https://old.reddit.com/r/theonion/top.json?t=all&after=t3_av1jt0\n",
      "https://old.reddit.com/r/theonion/top.json?t=all&after=t3_9xo00e\n",
      "https://old.reddit.com/r/theonion/top.json?t=all&after=t3_alilh7\n",
      "https://old.reddit.com/r/theonion/top.json?t=all&after=t3_9hrc6t\n",
      "https://old.reddit.com/r/theonion/top.json?t=all&after=t3_aqxwzy\n",
      "https://old.reddit.com/r/theonion/top.json?t=all&after=t3_c7sydx\n",
      "https://old.reddit.com/r/theonion/top.json?t=all&after=t3_742zlf\n",
      "https://old.reddit.com/r/theonion/top.json?t=all&after=t3_a9f97q\n",
      "https://old.reddit.com/r/theonion/top.json?t=all&after=t3_9ew2hp\n",
      "https://old.reddit.com/r/theonion/top.json?t=all&after=t3_brqf9t\n",
      "https://old.reddit.com/r/theonion/top.json?t=all&after=t3_5kg0js\n",
      "https://old.reddit.com/r/theonion/top.json?t=all&after=t3_6xgqgq\n",
      "https://old.reddit.com/r/theonion/top.json?t=all&after=t3_9kksvf\n",
      "https://old.reddit.com/r/theonion/top.json?t=all&after=t3_787a7h\n",
      "https://old.reddit.com/r/theonion/top.json?t=all&after=t3_6ryzzt\n",
      "https://old.reddit.com/r/theonion/top.json?t=all&after=t3_53zj9c\n",
      "https://old.reddit.com/r/theonion/top.json?t=all&after=t3_7bdzei\n",
      "https://old.reddit.com/r/theonion/top.json?t=all&after=t3_7cxggs\n",
      "https://old.reddit.com/r/theonion/top.json?t=all&after=t3_77m6jx\n",
      "https://old.reddit.com/r/theonion/top.json?t=all&after=t3_9udde8\n",
      "https://old.reddit.com/r/theonion/top.json?t=all&after=t3_80w6mn\n",
      "https://old.reddit.com/r/theonion/top.json?t=all&after=t3_76yf58\n",
      "https://old.reddit.com/r/theonion/top.json?t=all&after=t3_5b462n\n",
      "https://old.reddit.com/r/theonion/top.json?t=all&after=t3_60sv8e\n",
      "https://old.reddit.com/r/theonion/top.json?t=all&after=t3_8dnsrf\n",
      "https://old.reddit.com/r/theonion/top.json?t=all&after=t3_998ej7\n",
      "https://old.reddit.com/r/theonion/top.json?t=all&after=t3_66h464\n",
      "https://old.reddit.com/r/theonion/top.json?t=all&after=t3_64ods2\n",
      "https://old.reddit.com/r/theonion/top.json?t=all&after=t3_8l1lmi\n",
      "https://old.reddit.com/r/theonion/top.json?t=all&after=t3_3n97g2\n",
      "https://old.reddit.com/r/theonion/top.json?t=all\n",
      "https://old.reddit.com/r/theonion/top.json?t=all&after=t3_8y0ob1\n",
      "https://old.reddit.com/r/theonion/top.json?t=all&after=t3_a3qyte\n",
      "https://old.reddit.com/r/theonion/top.json?t=all&after=t3_b9ekqj\n",
      "https://old.reddit.com/r/theonion/top.json?t=all&after=t3_bo676d\n",
      "https://old.reddit.com/r/theonion/top.json?t=all&after=t3_aqp4sb\n",
      "https://old.reddit.com/r/theonion/top.json?t=all&after=t3_bg5g1j\n",
      "https://old.reddit.com/r/theonion/top.json?t=all&after=t3_9r2707\n",
      "https://old.reddit.com/r/theonion/top.json?t=all&after=t3_b3by5b\n",
      "https://old.reddit.com/r/theonion/top.json?t=all&after=t3_9f8m59\n",
      "https://old.reddit.com/r/theonion/top.json?t=all&after=t3_av1jt0\n",
      "https://old.reddit.com/r/theonion/top.json?t=all&after=t3_9xo00e\n",
      "https://old.reddit.com/r/theonion/top.json?t=all&after=t3_alilh7\n",
      "https://old.reddit.com/r/theonion/top.json?t=all&after=t3_9hrc6t\n",
      "https://old.reddit.com/r/theonion/top.json?t=all&after=t3_aqxwzy\n",
      "https://old.reddit.com/r/theonion/top.json?t=all&after=t3_c7sydx\n",
      "https://old.reddit.com/r/theonion/top.json?t=all&after=t3_742zlf\n",
      "https://old.reddit.com/r/theonion/top.json?t=all&after=t3_a9f97q\n",
      "https://old.reddit.com/r/theonion/top.json?t=all&after=t3_9ew2hp\n",
      "https://old.reddit.com/r/theonion/top.json?t=all&after=t3_brqf9t\n"
     ]
    }
   ],
   "source": [
    "to = sub_query('theonion', sub_all)"
   ]
  },
  {
   "cell_type": "code",
   "execution_count": 8,
   "metadata": {},
   "outputs": [
    {
     "name": "stdout",
     "output_type": "stream",
     "text": [
      "https://old.reddit.com/r/theonion.json\n",
      "https://old.reddit.com/r/theonion.json?count=25&after=t3_c7sydx\n",
      "https://old.reddit.com/r/theonion.json?count=25&after=t3_c5tuut\n",
      "https://old.reddit.com/r/theonion.json?count=25&after=t3_c3eh8m\n",
      "https://old.reddit.com/r/theonion.json?count=25&after=t3_c2jiw8\n",
      "https://old.reddit.com/r/theonion.json?count=25&after=t3_c1etej\n",
      "https://old.reddit.com/r/theonion.json?count=25&after=t3_c07iud\n",
      "https://old.reddit.com/r/theonion.json?count=25&after=t3_bzfjqi\n",
      "https://old.reddit.com/r/theonion.json?count=25&after=t3_bxxnp2\n",
      "https://old.reddit.com/r/theonion.json?count=25&after=t3_bx557x\n",
      "https://old.reddit.com/r/theonion.json?count=25&after=t3_bvlled\n",
      "https://old.reddit.com/r/theonion.json?count=25&after=t3_butqeo\n",
      "https://old.reddit.com/r/theonion.json?count=25&after=t3_btrf66\n",
      "https://old.reddit.com/r/theonion.json?count=25&after=t3_bs6yfs\n",
      "https://old.reddit.com/r/theonion.json?count=25&after=t3_bqyd4x\n",
      "https://old.reddit.com/r/theonion.json?count=25&after=t3_bqjb9f\n",
      "https://old.reddit.com/r/theonion.json?count=25&after=t3_bpf2yj\n",
      "https://old.reddit.com/r/theonion.json?count=25&after=t3_bokysi\n",
      "https://old.reddit.com/r/theonion.json?count=25&after=t3_bn2acz\n",
      "https://old.reddit.com/r/theonion.json?count=25&after=t3_bm9i6m\n",
      "https://old.reddit.com/r/theonion.json?count=25&after=t3_blt4ff\n",
      "https://old.reddit.com/r/theonion.json?count=25&after=t3_bkaws9\n",
      "https://old.reddit.com/r/theonion.json?count=25&after=t3_bjheu7\n",
      "https://old.reddit.com/r/theonion.json?count=25&after=t3_biw2uh\n",
      "https://old.reddit.com/r/theonion.json?count=25&after=t3_bhnmdi\n",
      "https://old.reddit.com/r/theonion.json?count=25&after=t3_bh0ax9\n",
      "https://old.reddit.com/r/theonion.json?count=25&after=t3_bg0l2d\n",
      "https://old.reddit.com/r/theonion.json?count=25&after=t3_bf2sfr\n",
      "https://old.reddit.com/r/theonion.json?count=25&after=t3_bekxmm\n",
      "https://old.reddit.com/r/theonion.json?count=25&after=t3_bducf4\n",
      "https://old.reddit.com/r/theonion.json?count=25&after=t3_bcezsc\n",
      "https://old.reddit.com/r/theonion.json?count=25&after=t3_bbdrf7\n",
      "https://old.reddit.com/r/theonion.json?count=25&after=t3_baz1go\n",
      "https://old.reddit.com/r/theonion.json?count=25&after=t3_b9npy4\n",
      "https://old.reddit.com/r/theonion.json?count=25&after=t3_b8l794\n",
      "https://old.reddit.com/r/theonion.json?count=25&after=t3_b7ibfj\n",
      "https://old.reddit.com/r/theonion.json?count=25&after=t3_b6kefg\n",
      "https://old.reddit.com/r/theonion.json?count=25&after=t3_b5gwtm\n",
      "https://old.reddit.com/r/theonion.json?count=25&after=t3_b3sbcq\n",
      "https://old.reddit.com/r/theonion.json\n",
      "https://old.reddit.com/r/theonion.json?count=25&after=t3_c7sydx\n",
      "https://old.reddit.com/r/theonion.json?count=25&after=t3_c5tuut\n",
      "https://old.reddit.com/r/theonion.json?count=25&after=t3_c3eh8m\n",
      "https://old.reddit.com/r/theonion.json?count=25&after=t3_c2jiw8\n",
      "https://old.reddit.com/r/theonion.json?count=25&after=t3_c1etej\n",
      "https://old.reddit.com/r/theonion.json?count=25&after=t3_c07iud\n",
      "https://old.reddit.com/r/theonion.json?count=25&after=t3_bzfjqi\n",
      "https://old.reddit.com/r/theonion.json?count=25&after=t3_bxxnp2\n",
      "https://old.reddit.com/r/theonion.json?count=25&after=t3_bx557x\n",
      "https://old.reddit.com/r/theonion.json?count=25&after=t3_bvlled\n",
      "https://old.reddit.com/r/theonion.json?count=25&after=t3_butqeo\n",
      "https://old.reddit.com/r/theonion.json?count=25&after=t3_btrf66\n",
      "https://old.reddit.com/r/theonion.json?count=25&after=t3_bs6yfs\n",
      "https://old.reddit.com/r/theonion.json?count=25&after=t3_bqyd4x\n",
      "https://old.reddit.com/r/theonion.json?count=25&after=t3_bqjb9f\n",
      "https://old.reddit.com/r/theonion.json?count=25&after=t3_bpf2yj\n",
      "https://old.reddit.com/r/theonion.json?count=25&after=t3_bokysi\n",
      "https://old.reddit.com/r/theonion.json?count=25&after=t3_bn2acz\n",
      "https://old.reddit.com/r/theonion.json?count=25&after=t3_bm9i6m\n",
      "https://old.reddit.com/r/theonion.json?count=25&after=t3_blt4ff\n"
     ]
    }
   ],
   "source": [
    "to = sub_query('theonion', sub_hot, to)"
   ]
  },
  {
   "cell_type": "code",
   "execution_count": 9,
   "metadata": {},
   "outputs": [
    {
     "name": "stdout",
     "output_type": "stream",
     "text": [
      "https://old.reddit.com/r/theonion/new.json\n",
      "https://old.reddit.com/r/theonion/new.json?count=25&after=t3_c80d79\n",
      "https://old.reddit.com/r/theonion/new.json?count=25&after=t3_c5rqxz\n",
      "https://old.reddit.com/r/theonion/new.json?count=25&after=t3_c3di33\n",
      "https://old.reddit.com/r/theonion/new.json?count=25&after=t3_c2jaab\n",
      "https://old.reddit.com/r/theonion/new.json?count=25&after=t3_c15ttr\n",
      "https://old.reddit.com/r/theonion/new.json?count=25&after=t3_c0799s\n",
      "https://old.reddit.com/r/theonion/new.json?count=25&after=t3_bzdxx6\n",
      "https://old.reddit.com/r/theonion/new.json?count=25&after=t3_bxwhjf\n",
      "https://old.reddit.com/r/theonion/new.json?count=25&after=t3_bwu2md\n",
      "https://old.reddit.com/r/theonion/new.json?count=25&after=t3_bveamj\n",
      "https://old.reddit.com/r/theonion/new.json?count=25&after=t3_buk2d6\n",
      "https://old.reddit.com/r/theonion/new.json?count=25&after=t3_btngbz\n",
      "https://old.reddit.com/r/theonion/new.json?count=25&after=t3_bs6yfs\n",
      "https://old.reddit.com/r/theonion/new.json?count=25&after=t3_brcwg6\n",
      "https://old.reddit.com/r/theonion/new.json?count=25&after=t3_bqxanr\n",
      "https://old.reddit.com/r/theonion/new.json?count=25&after=t3_bp2w2h\n",
      "https://old.reddit.com/r/theonion/new.json?count=25&after=t3_boljwn\n",
      "https://old.reddit.com/r/theonion/new.json?count=25&after=t3_bn0vtl\n",
      "https://old.reddit.com/r/theonion/new.json?count=25&after=t3_bm9i6m\n",
      "https://old.reddit.com/r/theonion/new.json?count=25&after=t3_blubz3\n",
      "https://old.reddit.com/r/theonion/new.json?count=25&after=t3_bkcufg\n",
      "https://old.reddit.com/r/theonion/new.json?count=25&after=t3_bjtlu7\n",
      "https://old.reddit.com/r/theonion/new.json?count=25&after=t3_biuds1\n",
      "https://old.reddit.com/r/theonion/new.json?count=25&after=t3_bhltmk\n",
      "https://old.reddit.com/r/theonion/new.json?count=25&after=t3_bgxjqz\n",
      "https://old.reddit.com/r/theonion/new.json?count=25&after=t3_bg7y6z\n",
      "https://old.reddit.com/r/theonion/new.json?count=25&after=t3_bf2sfr\n",
      "https://old.reddit.com/r/theonion/new.json?count=25&after=t3_bectu9\n",
      "https://old.reddit.com/r/theonion/new.json?count=25&after=t3_bdjk2r\n",
      "https://old.reddit.com/r/theonion/new.json?count=25&after=t3_bc7pxs\n",
      "https://old.reddit.com/r/theonion/new.json?count=25&after=t3_bbmf5y\n",
      "https://old.reddit.com/r/theonion/new.json?count=25&after=t3_bayyus\n",
      "https://old.reddit.com/r/theonion/new.json?count=25&after=t3_b9j0e5\n",
      "https://old.reddit.com/r/theonion/new.json?count=25&after=t3_b8n96k\n",
      "https://old.reddit.com/r/theonion/new.json?count=25&after=t3_b7ac2t\n",
      "https://old.reddit.com/r/theonion/new.json?count=25&after=t3_b6eg2q\n",
      "https://old.reddit.com/r/theonion/new.json?count=25&after=t3_b5dt9j\n",
      "https://old.reddit.com/r/theonion/new.json?count=25&after=t3_b3v8dz\n",
      "https://old.reddit.com/r/theonion/new.json?count=25&after=t3_b31o6c\n",
      "https://old.reddit.com/r/theonion/new.json\n",
      "https://old.reddit.com/r/theonion/new.json?count=25&after=t3_c80d79\n",
      "https://old.reddit.com/r/theonion/new.json?count=25&after=t3_c5rqxz\n",
      "https://old.reddit.com/r/theonion/new.json?count=25&after=t3_c3di33\n",
      "https://old.reddit.com/r/theonion/new.json?count=25&after=t3_c2jaab\n",
      "https://old.reddit.com/r/theonion/new.json?count=25&after=t3_c15ttr\n",
      "https://old.reddit.com/r/theonion/new.json?count=25&after=t3_c0799s\n",
      "https://old.reddit.com/r/theonion/new.json?count=25&after=t3_bzdxx6\n",
      "https://old.reddit.com/r/theonion/new.json?count=25&after=t3_bxwhjf\n",
      "https://old.reddit.com/r/theonion/new.json?count=25&after=t3_bwu2md\n",
      "https://old.reddit.com/r/theonion/new.json?count=25&after=t3_bveamj\n",
      "https://old.reddit.com/r/theonion/new.json?count=25&after=t3_buk2d6\n",
      "https://old.reddit.com/r/theonion/new.json?count=25&after=t3_btngbz\n",
      "https://old.reddit.com/r/theonion/new.json?count=25&after=t3_bs6yfs\n",
      "https://old.reddit.com/r/theonion/new.json?count=25&after=t3_brcwg6\n",
      "https://old.reddit.com/r/theonion/new.json?count=25&after=t3_bqxanr\n",
      "https://old.reddit.com/r/theonion/new.json?count=25&after=t3_bp2w2h\n",
      "https://old.reddit.com/r/theonion/new.json?count=25&after=t3_boljwn\n",
      "https://old.reddit.com/r/theonion/new.json?count=25&after=t3_bn0vtl\n",
      "https://old.reddit.com/r/theonion/new.json?count=25&after=t3_bm9i6m\n"
     ]
    }
   ],
   "source": [
    "to = sub_query('theonion', sub_new, to)"
   ]
  },
  {
   "cell_type": "code",
   "execution_count": 10,
   "metadata": {},
   "outputs": [],
   "source": [
    "def combine_text(posts):\n",
    "    return[' '.join([post['title'], post['selftext']]) for post in posts] # build this out to a function"
   ]
  },
  {
   "cell_type": "code",
   "execution_count": null,
   "metadata": {},
   "outputs": [
    {
     "name": "stdout",
     "output_type": "stream",
     "text": [
      "https://old.reddit.com/r/nottheonion/top.json?t=all\n",
      "https://old.reddit.com/r/nottheonion/top.json?t=all&after=t3_7jx5td\n",
      "https://old.reddit.com/r/nottheonion/top.json?t=all&after=t3_9xrdj2\n",
      "https://old.reddit.com/r/nottheonion/top.json?t=all&after=t3_7qpq3u\n",
      "https://old.reddit.com/r/nottheonion/top.json?t=all&after=t3_79nb46\n",
      "https://old.reddit.com/r/nottheonion/top.json?t=all&after=t3_aycaai\n",
      "https://old.reddit.com/r/nottheonion/top.json?t=all&after=t3_70cxib\n",
      "https://old.reddit.com/r/nottheonion/top.json?t=all&after=t3_69lhk3\n",
      "https://old.reddit.com/r/nottheonion/top.json?t=all&after=t3_5vqp2f\n",
      "https://old.reddit.com/r/nottheonion/top.json?t=all&after=t3_c1nysu\n",
      "https://old.reddit.com/r/nottheonion/top.json?t=all&after=t3_8sqnit\n",
      "https://old.reddit.com/r/nottheonion/top.json?t=all&after=t3_99so6s\n",
      "https://old.reddit.com/r/nottheonion/top.json?t=all&after=t3_avr8co\n",
      "https://old.reddit.com/r/nottheonion/top.json?t=all&after=t3_9l20wy\n",
      "https://old.reddit.com/r/nottheonion/top.json?t=all&after=t3_7mgsb9\n",
      "https://old.reddit.com/r/nottheonion/top.json?t=all&after=t3_695e1z\n",
      "https://old.reddit.com/r/nottheonion/top.json?t=all&after=t3_66medu\n",
      "https://old.reddit.com/r/nottheonion/top.json?t=all&after=t3_aofxn6\n",
      "https://old.reddit.com/r/nottheonion/top.json?t=all&after=t3_6ned5q\n",
      "https://old.reddit.com/r/nottheonion/top.json?t=all&after=t3_827l3g\n",
      "https://old.reddit.com/r/nottheonion/top.json?t=all&after=t3_95wlde\n",
      "https://old.reddit.com/r/nottheonion/top.json?t=all&after=t3_61z11x\n",
      "https://old.reddit.com/r/nottheonion/top.json?t=all&after=t3_6raala\n",
      "https://old.reddit.com/r/nottheonion/top.json?t=all&after=t3_6s5ln2\n",
      "https://old.reddit.com/r/nottheonion/top.json?t=all&after=t3_a51s7h\n",
      "https://old.reddit.com/r/nottheonion/top.json?t=all&after=t3_adkyl1\n",
      "https://old.reddit.com/r/nottheonion/top.json?t=all&after=t3_71s1gw\n",
      "https://old.reddit.com/r/nottheonion/top.json?t=all&after=t3_5w3rh6\n",
      "https://old.reddit.com/r/nottheonion/top.json?t=all&after=t3_73rvut\n",
      "https://old.reddit.com/r/nottheonion/top.json?t=all&after=t3_aonmll\n",
      "https://old.reddit.com/r/nottheonion/top.json?t=all&after=t3_5fu863\n",
      "https://old.reddit.com/r/nottheonion/top.json?t=all&after=t3_75dx2k\n",
      "https://old.reddit.com/r/nottheonion/top.json?t=all&after=t3_5p757x\n",
      "https://old.reddit.com/r/nottheonion/top.json?t=all&after=t3_4dlbos\n",
      "https://old.reddit.com/r/nottheonion/top.json?t=all&after=t3_a430zz\n",
      "https://old.reddit.com/r/nottheonion/top.json?t=all&after=t3_bk0y08\n",
      "https://old.reddit.com/r/nottheonion/top.json?t=all&after=t3_5a0qa1\n",
      "https://old.reddit.com/r/nottheonion/top.json?t=all&after=t3_au90jx\n",
      "https://old.reddit.com/r/nottheonion/top.json?t=all&after=t3_6p17dt\n",
      "https://old.reddit.com/r/nottheonion/top.json?t=all\n",
      "https://old.reddit.com/r/nottheonion/top.json?t=all&after=t3_7jx5td\n",
      "https://old.reddit.com/r/nottheonion/top.json?t=all&after=t3_9xrdj2\n",
      "https://old.reddit.com/r/nottheonion/top.json?t=all&after=t3_7qpq3u\n",
      "https://old.reddit.com/r/nottheonion/top.json?t=all&after=t3_79nb46\n",
      "https://old.reddit.com/r/nottheonion/top.json?t=all&after=t3_aycaai\n",
      "https://old.reddit.com/r/nottheonion/top.json?t=all&after=t3_70cxib\n",
      "https://old.reddit.com/r/nottheonion/top.json?t=all&after=t3_69lhk3\n",
      "https://old.reddit.com/r/nottheonion/top.json?t=all&after=t3_5vqp2f\n",
      "https://old.reddit.com/r/nottheonion/top.json?t=all&after=t3_c1nysu\n",
      "https://old.reddit.com/r/nottheonion/top.json?t=all&after=t3_8sqnit\n",
      "https://old.reddit.com/r/nottheonion/top.json?t=all&after=t3_99so6s\n",
      "https://old.reddit.com/r/nottheonion/top.json?t=all&after=t3_avr8co\n",
      "https://old.reddit.com/r/nottheonion/top.json?t=all&after=t3_9l20wy\n",
      "https://old.reddit.com/r/nottheonion/top.json?t=all&after=t3_7mgsb9\n",
      "https://old.reddit.com/r/nottheonion/top.json?t=all&after=t3_695e1z\n",
      "https://old.reddit.com/r/nottheonion/top.json?t=all&after=t3_66medu\n",
      "https://old.reddit.com/r/nottheonion/top.json?t=all&after=t3_aofxn6\n",
      "https://old.reddit.com/r/nottheonion/top.json?t=all&after=t3_6ned5q\n",
      "https://old.reddit.com/r/nottheonion/top.json?t=all&after=t3_827l3g\n",
      "https://old.reddit.com/r/nottheonion/top.json?t=all&after=t3_95wlde\n"
     ]
    }
   ],
   "source": [
    "nto = sub_query('nottheonion', sub_all)"
   ]
  },
  {
   "cell_type": "code",
   "execution_count": null,
   "metadata": {},
   "outputs": [
    {
     "name": "stdout",
     "output_type": "stream",
     "text": [
      "https://old.reddit.com/r/nottheonion.json\n",
      "https://old.reddit.com/r/nottheonion.json?count=25&after=t3_cc119d\n",
      "https://old.reddit.com/r/nottheonion.json?count=25&after=t3_cc2hte\n",
      "https://old.reddit.com/r/nottheonion.json?count=25&after=t3_cbenh5\n",
      "https://old.reddit.com/r/nottheonion.json?count=25&after=t3_cb5zng\n",
      "https://old.reddit.com/r/nottheonion.json?count=25&after=t3_c9vmlw\n",
      "https://old.reddit.com/r/nottheonion.json?count=25&after=t3_c8gf4z\n",
      "https://old.reddit.com/r/nottheonion.json?count=25&after=t3_c6qlva\n",
      "https://old.reddit.com/r/nottheonion.json?count=25&after=t3_c42fnm\n",
      "https://old.reddit.com/r/nottheonion.json\n",
      "https://old.reddit.com/r/nottheonion.json?count=25&after=t3_cc119d\n",
      "https://old.reddit.com/r/nottheonion.json?count=25&after=t3_cc2hte\n",
      "https://old.reddit.com/r/nottheonion.json?count=25&after=t3_cbenh5\n",
      "https://old.reddit.com/r/nottheonion.json?count=25&after=t3_cb5zng\n",
      "https://old.reddit.com/r/nottheonion.json?count=25&after=t3_c9vmlw\n",
      "https://old.reddit.com/r/nottheonion.json?count=25&after=t3_c8gf4z\n",
      "https://old.reddit.com/r/nottheonion.json?count=25&after=t3_c6qlva\n",
      "https://old.reddit.com/r/nottheonion.json?count=25&after=t3_c42fnm\n",
      "https://old.reddit.com/r/nottheonion.json\n",
      "https://old.reddit.com/r/nottheonion.json?count=25&after=t3_cc119d\n",
      "https://old.reddit.com/r/nottheonion.json?count=25&after=t3_cc2hte\n",
      "https://old.reddit.com/r/nottheonion.json?count=25&after=t3_cbenh5\n",
      "https://old.reddit.com/r/nottheonion.json?count=25&after=t3_cb5zng\n",
      "https://old.reddit.com/r/nottheonion.json?count=25&after=t3_c9vmlw\n",
      "https://old.reddit.com/r/nottheonion.json?count=25&after=t3_c8gf4z\n",
      "https://old.reddit.com/r/nottheonion.json?count=25&after=t3_c6qlva\n",
      "https://old.reddit.com/r/nottheonion.json?count=25&after=t3_c42fnm\n",
      "https://old.reddit.com/r/nottheonion.json\n",
      "https://old.reddit.com/r/nottheonion.json?count=25&after=t3_cc119d\n",
      "https://old.reddit.com/r/nottheonion.json?count=25&after=t3_cc2hte\n",
      "https://old.reddit.com/r/nottheonion.json?count=25&after=t3_cbenh5\n",
      "https://old.reddit.com/r/nottheonion.json?count=25&after=t3_cb5zng\n",
      "https://old.reddit.com/r/nottheonion.json?count=25&after=t3_c9vmlw\n",
      "https://old.reddit.com/r/nottheonion.json?count=25&after=t3_c8gf4z\n"
     ]
    }
   ],
   "source": [
    "nto = sub_query('nottheonion', sub_hot, nto)"
   ]
  },
  {
   "cell_type": "code",
   "execution_count": null,
   "metadata": {},
   "outputs": [],
   "source": [
    "nto = sub_query('nottheonion', sub_new, nto)"
   ]
  },
  {
   "cell_type": "code",
   "execution_count": null,
   "metadata": {},
   "outputs": [],
   "source": [
    "to_text = combine_text(to)"
   ]
  },
  {
   "cell_type": "code",
   "execution_count": null,
   "metadata": {},
   "outputs": [],
   "source": [
    "nto_text = combine_text(nto)"
   ]
  },
  {
   "cell_type": "code",
   "execution_count": null,
   "metadata": {},
   "outputs": [],
   "source": [
    "news_df = pd.DataFrame(to_text, columns=['text'])\n",
    "news_df['is_theO']= 1"
   ]
  },
  {
   "cell_type": "code",
   "execution_count": null,
   "metadata": {},
   "outputs": [],
   "source": [
    "nto_df = pd.DataFrame(nto_text, columns=['text'])\n",
    "nto_df['is_theO']= 0"
   ]
  },
  {
   "cell_type": "code",
   "execution_count": null,
   "metadata": {},
   "outputs": [],
   "source": [
    "reddit = pd.concat([news_df, nto_df], ignore_index=True)"
   ]
  },
  {
   "cell_type": "code",
   "execution_count": null,
   "metadata": {},
   "outputs": [],
   "source": [
    "reddit['is_theO'].value_counts()"
   ]
  },
  {
   "cell_type": "code",
   "execution_count": null,
   "metadata": {},
   "outputs": [],
   "source": [
    "reddit.shape"
   ]
  },
  {
   "cell_type": "code",
   "execution_count": null,
   "metadata": {},
   "outputs": [],
   "source": [
    "reddit = reddit.drop_duplicates()"
   ]
  },
  {
   "cell_type": "code",
   "execution_count": null,
   "metadata": {},
   "outputs": [],
   "source": [
    "reddit.shape"
   ]
  },
  {
   "cell_type": "code",
   "execution_count": null,
   "metadata": {},
   "outputs": [],
   "source": [
    "reddit['is_theO'].value_counts(normalize=True)"
   ]
  },
  {
   "cell_type": "code",
   "execution_count": 22,
   "metadata": {},
   "outputs": [],
   "source": [
    "reddit.to_csv('./datasets/reddit_4.csv', index=False)"
   ]
  },
  {
   "cell_type": "code",
   "execution_count": null,
   "metadata": {},
   "outputs": [],
   "source": []
  }
 ],
 "metadata": {
  "kernelspec": {
   "display_name": "Python 3",
   "language": "python",
   "name": "python3"
  },
  "language_info": {
   "codemirror_mode": {
    "name": "ipython",
    "version": 3
   },
   "file_extension": ".py",
   "mimetype": "text/x-python",
   "name": "python",
   "nbconvert_exporter": "python",
   "pygments_lexer": "ipython3",
   "version": "3.7.3"
  }
 },
 "nbformat": 4,
 "nbformat_minor": 2
}
