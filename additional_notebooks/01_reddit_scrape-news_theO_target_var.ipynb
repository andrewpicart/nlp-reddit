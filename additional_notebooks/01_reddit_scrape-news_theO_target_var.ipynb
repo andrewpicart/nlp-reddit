{
 "cells": [
  {
   "cell_type": "code",
   "execution_count": 1,
   "metadata": {},
   "outputs": [],
   "source": [
    "import requests, json, time, re\n",
    "import pandas as pd\n",
    "import numpy as np\n",
    "from sklearn.feature_extraction.text import TfidfVectorizer\n",
    "from sklearn.ensemble import RandomForestClassifier\n",
    "from sklearn.model_selection import train_test_split, GridSearchCV\n",
    "import matplotlib.pyplot as plt"
   ]
  },
  {
   "cell_type": "code",
   "execution_count": 2,
   "metadata": {},
   "outputs": [],
   "source": [
    "# create variables of strings for the different subreddit pages\n",
    "sub_all = '/top.json?t=all'\n",
    "sub_gilded = '/gilded.json'\n",
    "sub_hot = '.json'\n",
    "sub_new = '/new.json'"
   ]
  },
  {
   "cell_type": "code",
   "execution_count": 4,
   "metadata": {},
   "outputs": [],
   "source": [
    "# adapted code for Adi\n",
    "# posts is the returned dictionary (should pass in previously ran `posts`)\n",
    "# subreddit = url string \n",
    "# subpage = the page on the subreddit (should be already defined)\n",
    "def sub_query(subreddit, subpage, posts=None, pages=60):\n",
    "    \n",
    "    #Step 0: set initial conditions\n",
    "    if posts == None:\n",
    "        posts = []\n",
    "    else:\n",
    "        posts = posts\n",
    "    url = f'https://old.reddit.com/r/{subreddit}{subpage}'\n",
    "    after = None\n",
    "\n",
    "    #Step 1: build the loop and print URL\n",
    "    for _ in range(pages):\n",
    "        if after == None:\n",
    "            current_url = url\n",
    "        elif subpage == '/top.json?t=all':\n",
    "            current_url = url + '&after=' + after\n",
    "        else:\n",
    "            current_url = url + '?count=25&after=' + after\n",
    "\n",
    "        print(current_url)\n",
    "\n",
    "        #Step 2a: make the requests and handle status code. Add time.sleep now (2.b)\n",
    "        res = requests.get(current_url, headers={'User-agent': 'hehehehe'})\n",
    "\n",
    "        if res.status_code != 200:\n",
    "            print('Status error', res.status_code)\n",
    "            break\n",
    "\n",
    "        #Step 3: Actually deal with the data   \n",
    "        current_dict = res.json()\n",
    "        current_posts = [p['data'] for p in current_dict['data']['children']]\n",
    "        posts.extend(current_posts)\n",
    "\n",
    "        after = current_dict['data']['after']\n",
    "\n",
    "        #Step 2b:\n",
    "        time.sleep(0.1)\n",
    "\n",
    "    return posts"
   ]
  },
  {
   "cell_type": "code",
   "execution_count": 5,
   "metadata": {},
   "outputs": [
    {
     "name": "stdout",
     "output_type": "stream",
     "text": [
      "https://old.reddit.com/r/news/top.json?t=all\n",
      "https://old.reddit.com/r/news/top.json?t=all&after=t3_aezedn\n",
      "https://old.reddit.com/r/news/top.json?t=all&after=t3_7aqilp\n",
      "https://old.reddit.com/r/news/top.json?t=all&after=t3_925h9r\n",
      "https://old.reddit.com/r/news/top.json?t=all&after=t3_7ib4bo\n",
      "https://old.reddit.com/r/news/top.json?t=all&after=t3_afiri2\n",
      "https://old.reddit.com/r/news/top.json?t=all&after=t3_9zop96\n",
      "https://old.reddit.com/r/news/top.json?t=all&after=t3_73n05s\n",
      "https://old.reddit.com/r/news/top.json?t=all&after=t3_77iqr8\n",
      "https://old.reddit.com/r/news/top.json?t=all&after=t3_a5zya6\n",
      "https://old.reddit.com/r/news/top.json?t=all&after=t3_8vjnng\n",
      "https://old.reddit.com/r/news/top.json?t=all&after=t3_aqy9ba\n",
      "https://old.reddit.com/r/news/top.json?t=all&after=t3_b31o1f\n",
      "https://old.reddit.com/r/news/top.json?t=all&after=t3_7zwi9g\n",
      "https://old.reddit.com/r/news/top.json?t=all&after=t3_6wj9ey\n",
      "https://old.reddit.com/r/news/top.json?t=all&after=t3_6z3755\n",
      "https://old.reddit.com/r/news/top.json?t=all&after=t3_80voxz\n",
      "https://old.reddit.com/r/news/top.json?t=all&after=t3_8idzjv\n",
      "https://old.reddit.com/r/news/top.json?t=all&after=t3_c1vazo\n",
      "https://old.reddit.com/r/news/top.json?t=all&after=t3_b2y358\n",
      "https://old.reddit.com/r/news/top.json?t=all&after=t3_6zmyzp\n",
      "https://old.reddit.com/r/news/top.json?t=all&after=t3_5zhdlw\n",
      "https://old.reddit.com/r/news/top.json?t=all&after=t3_a6nwj7\n",
      "https://old.reddit.com/r/news/top.json?t=all&after=t3_9att4n\n",
      "https://old.reddit.com/r/news/top.json?t=all&after=t3_c8heqd\n",
      "https://old.reddit.com/r/news/top.json?t=all&after=t3_6ls49w\n",
      "https://old.reddit.com/r/news/top.json?t=all&after=t3_4cioxg\n",
      "https://old.reddit.com/r/news/top.json?t=all&after=t3_atg1m3\n",
      "https://old.reddit.com/r/news/top.json?t=all&after=t3_8ss9ro\n",
      "https://old.reddit.com/r/news/top.json?t=all&after=t3_2pslkb\n",
      "https://old.reddit.com/r/news/top.json?t=all&after=t3_bpjnt8\n",
      "https://old.reddit.com/r/news/top.json?t=all&after=t3_7klhgz\n",
      "https://old.reddit.com/r/news/top.json?t=all&after=t3_3m0bn6\n",
      "https://old.reddit.com/r/news/top.json?t=all&after=t3_6pva9u\n",
      "https://old.reddit.com/r/news/top.json?t=all&after=t3_9vl50l\n",
      "https://old.reddit.com/r/news/top.json?t=all&after=t3_995hrv\n",
      "https://old.reddit.com/r/news/top.json?t=all&after=t3_c1itjk\n",
      "https://old.reddit.com/r/news/top.json?t=all&after=t3_5wco2n\n",
      "https://old.reddit.com/r/news/top.json?t=all&after=t3_5qdyuz\n",
      "https://old.reddit.com/r/news/top.json?t=all&after=t3_9tf4hz\n",
      "https://old.reddit.com/r/news/top.json?t=all\n",
      "https://old.reddit.com/r/news/top.json?t=all&after=t3_aezedn\n",
      "https://old.reddit.com/r/news/top.json?t=all&after=t3_7aqilp\n",
      "https://old.reddit.com/r/news/top.json?t=all&after=t3_925h9r\n",
      "https://old.reddit.com/r/news/top.json?t=all&after=t3_7ib4bo\n",
      "https://old.reddit.com/r/news/top.json?t=all&after=t3_afiri2\n",
      "https://old.reddit.com/r/news/top.json?t=all&after=t3_9zop96\n",
      "https://old.reddit.com/r/news/top.json?t=all&after=t3_73n05s\n",
      "https://old.reddit.com/r/news/top.json?t=all&after=t3_77iqr8\n",
      "https://old.reddit.com/r/news/top.json?t=all&after=t3_a5zya6\n",
      "https://old.reddit.com/r/news/top.json?t=all&after=t3_8vjnng\n",
      "https://old.reddit.com/r/news/top.json?t=all&after=t3_aqy9ba\n",
      "https://old.reddit.com/r/news/top.json?t=all&after=t3_b31o1f\n",
      "https://old.reddit.com/r/news/top.json?t=all&after=t3_7zwi9g\n",
      "https://old.reddit.com/r/news/top.json?t=all&after=t3_6wj9ey\n",
      "https://old.reddit.com/r/news/top.json?t=all&after=t3_6z3755\n",
      "https://old.reddit.com/r/news/top.json?t=all&after=t3_80voxz\n",
      "https://old.reddit.com/r/news/top.json?t=all&after=t3_8idzjv\n",
      "https://old.reddit.com/r/news/top.json?t=all&after=t3_c1vazo\n",
      "https://old.reddit.com/r/news/top.json?t=all&after=t3_b2y358\n"
     ]
    }
   ],
   "source": [
    "# r/news all\n",
    "news = sub_query('news', sub_all)"
   ]
  },
  {
   "cell_type": "code",
   "execution_count": 6,
   "metadata": {},
   "outputs": [
    {
     "name": "stdout",
     "output_type": "stream",
     "text": [
      "https://old.reddit.com/r/news.json\n",
      "https://old.reddit.com/r/news.json?count=25&after=t3_cc79gm\n",
      "https://old.reddit.com/r/news.json?count=25&after=t3_cc1fwt\n",
      "https://old.reddit.com/r/news.json?count=25&after=t3_cc3t2e\n",
      "https://old.reddit.com/r/news.json?count=25&after=t3_cbpziu\n",
      "https://old.reddit.com/r/news.json?count=25&after=t3_cbvsc0\n",
      "https://old.reddit.com/r/news.json?count=25&after=t3_cblfem\n",
      "https://old.reddit.com/r/news.json?count=25&after=t3_cbmvyz\n",
      "https://old.reddit.com/r/news.json?count=25&after=t3_cb55a8\n",
      "https://old.reddit.com/r/news.json?count=25&after=t3_caqvkm\n",
      "https://old.reddit.com/r/news.json?count=25&after=t3_carltg\n",
      "https://old.reddit.com/r/news.json\n",
      "https://old.reddit.com/r/news.json?count=25&after=t3_cc79gm\n",
      "https://old.reddit.com/r/news.json?count=25&after=t3_cc1fwt\n",
      "https://old.reddit.com/r/news.json?count=25&after=t3_cc3t2e\n",
      "https://old.reddit.com/r/news.json?count=25&after=t3_cbpziu\n",
      "https://old.reddit.com/r/news.json?count=25&after=t3_cbvsc0\n",
      "https://old.reddit.com/r/news.json?count=25&after=t3_cblfem\n",
      "https://old.reddit.com/r/news.json?count=25&after=t3_cbmvyz\n",
      "https://old.reddit.com/r/news.json?count=25&after=t3_cb55a8\n",
      "https://old.reddit.com/r/news.json?count=25&after=t3_caqvkm\n",
      "https://old.reddit.com/r/news.json?count=25&after=t3_carltg\n",
      "https://old.reddit.com/r/news.json\n",
      "https://old.reddit.com/r/news.json?count=25&after=t3_cc79gm\n",
      "https://old.reddit.com/r/news.json?count=25&after=t3_cc1fwt\n",
      "https://old.reddit.com/r/news.json?count=25&after=t3_cc3t2e\n",
      "https://old.reddit.com/r/news.json?count=25&after=t3_cbpziu\n",
      "https://old.reddit.com/r/news.json?count=25&after=t3_cbvsc0\n",
      "https://old.reddit.com/r/news.json?count=25&after=t3_cblfem\n",
      "https://old.reddit.com/r/news.json?count=25&after=t3_cbmvyz\n",
      "https://old.reddit.com/r/news.json?count=25&after=t3_cb55a8\n",
      "https://old.reddit.com/r/news.json?count=25&after=t3_caqvkm\n",
      "https://old.reddit.com/r/news.json?count=25&after=t3_carltg\n",
      "https://old.reddit.com/r/news.json\n",
      "https://old.reddit.com/r/news.json?count=25&after=t3_cc79gm\n",
      "https://old.reddit.com/r/news.json?count=25&after=t3_cc1fwt\n",
      "https://old.reddit.com/r/news.json?count=25&after=t3_cc3t2e\n",
      "https://old.reddit.com/r/news.json?count=25&after=t3_cbpziu\n",
      "https://old.reddit.com/r/news.json?count=25&after=t3_cbvsc0\n",
      "https://old.reddit.com/r/news.json?count=25&after=t3_cblfem\n",
      "https://old.reddit.com/r/news.json?count=25&after=t3_cbmvyz\n",
      "https://old.reddit.com/r/news.json?count=25&after=t3_cb55a8\n",
      "https://old.reddit.com/r/news.json?count=25&after=t3_caqvkm\n",
      "https://old.reddit.com/r/news.json?count=25&after=t3_carltg\n",
      "https://old.reddit.com/r/news.json\n",
      "https://old.reddit.com/r/news.json?count=25&after=t3_cc79gm\n",
      "https://old.reddit.com/r/news.json?count=25&after=t3_cc1fwt\n",
      "https://old.reddit.com/r/news.json?count=25&after=t3_cc3t2e\n",
      "https://old.reddit.com/r/news.json?count=25&after=t3_cbpziu\n",
      "https://old.reddit.com/r/news.json?count=25&after=t3_cbvsc0\n",
      "https://old.reddit.com/r/news.json?count=25&after=t3_cblfem\n",
      "https://old.reddit.com/r/news.json?count=25&after=t3_cbmvyz\n",
      "https://old.reddit.com/r/news.json?count=25&after=t3_cb55a8\n",
      "https://old.reddit.com/r/news.json?count=25&after=t3_caqvkm\n",
      "https://old.reddit.com/r/news.json?count=25&after=t3_carltg\n",
      "https://old.reddit.com/r/news.json\n",
      "https://old.reddit.com/r/news.json?count=25&after=t3_cc79gm\n",
      "https://old.reddit.com/r/news.json?count=25&after=t3_cc1fwt\n",
      "https://old.reddit.com/r/news.json?count=25&after=t3_cc3t2e\n",
      "https://old.reddit.com/r/news.json?count=25&after=t3_cbpziu\n"
     ]
    }
   ],
   "source": [
    "# r/news hot\n",
    "news = sub_query('news', sub_hot, news)"
   ]
  },
  {
   "cell_type": "code",
   "execution_count": 7,
   "metadata": {},
   "outputs": [
    {
     "name": "stdout",
     "output_type": "stream",
     "text": [
      "https://old.reddit.com/r/news/new.json\n",
      "https://old.reddit.com/r/news/new.json?count=25&after=t3_cc5k6x\n",
      "https://old.reddit.com/r/news/new.json?count=25&after=t3_cc2lew\n",
      "https://old.reddit.com/r/news/new.json?count=25&after=t3_cbz8mq\n",
      "https://old.reddit.com/r/news/new.json?count=25&after=t3_cbvs5j\n",
      "https://old.reddit.com/r/news/new.json?count=25&after=t3_cbmzk8\n",
      "https://old.reddit.com/r/news/new.json?count=25&after=t3_cbidx9\n",
      "https://old.reddit.com/r/news/new.json?count=25&after=t3_cbebnm\n",
      "https://old.reddit.com/r/news/new.json?count=25&after=t3_cb9e71\n",
      "https://old.reddit.com/r/news/new.json?count=25&after=t3_cb53wm\n",
      "https://old.reddit.com/r/news/new.json?count=25&after=t3_cb0hws\n",
      "https://old.reddit.com/r/news/new.json?count=25&after=t3_carsar\n",
      "https://old.reddit.com/r/news/new.json\n",
      "https://old.reddit.com/r/news/new.json?count=25&after=t3_cc5k6x\n",
      "https://old.reddit.com/r/news/new.json?count=25&after=t3_cc2lew\n",
      "https://old.reddit.com/r/news/new.json?count=25&after=t3_cbz8mq\n",
      "https://old.reddit.com/r/news/new.json?count=25&after=t3_cbvs5j\n",
      "https://old.reddit.com/r/news/new.json?count=25&after=t3_cbmzk8\n",
      "https://old.reddit.com/r/news/new.json?count=25&after=t3_cbidx9\n",
      "https://old.reddit.com/r/news/new.json?count=25&after=t3_cbebnm\n",
      "https://old.reddit.com/r/news/new.json?count=25&after=t3_cb9e71\n",
      "https://old.reddit.com/r/news/new.json?count=25&after=t3_cb53wm\n",
      "https://old.reddit.com/r/news/new.json?count=25&after=t3_cb0hws\n",
      "https://old.reddit.com/r/news/new.json?count=25&after=t3_carsar\n",
      "https://old.reddit.com/r/news/new.json\n",
      "https://old.reddit.com/r/news/new.json?count=25&after=t3_cc5k6x\n",
      "https://old.reddit.com/r/news/new.json?count=25&after=t3_cc2lew\n",
      "https://old.reddit.com/r/news/new.json?count=25&after=t3_cbz8mq\n",
      "https://old.reddit.com/r/news/new.json?count=25&after=t3_cbvs5j\n",
      "https://old.reddit.com/r/news/new.json?count=25&after=t3_cbmzk8\n",
      "https://old.reddit.com/r/news/new.json?count=25&after=t3_cbidx9\n",
      "https://old.reddit.com/r/news/new.json?count=25&after=t3_cbebnm\n",
      "https://old.reddit.com/r/news/new.json?count=25&after=t3_cb9e71\n",
      "https://old.reddit.com/r/news/new.json?count=25&after=t3_cb53wm\n",
      "https://old.reddit.com/r/news/new.json?count=25&after=t3_cb0hws\n",
      "https://old.reddit.com/r/news/new.json?count=25&after=t3_carsar\n",
      "https://old.reddit.com/r/news/new.json\n",
      "https://old.reddit.com/r/news/new.json?count=25&after=t3_cc5k6x\n",
      "https://old.reddit.com/r/news/new.json?count=25&after=t3_cc2lew\n",
      "https://old.reddit.com/r/news/new.json?count=25&after=t3_cbz8mq\n",
      "https://old.reddit.com/r/news/new.json?count=25&after=t3_cbvs5j\n",
      "https://old.reddit.com/r/news/new.json?count=25&after=t3_cbmzk8\n",
      "https://old.reddit.com/r/news/new.json?count=25&after=t3_cbidx9\n",
      "https://old.reddit.com/r/news/new.json?count=25&after=t3_cbebnm\n",
      "https://old.reddit.com/r/news/new.json?count=25&after=t3_cb9e71\n",
      "https://old.reddit.com/r/news/new.json?count=25&after=t3_cb53wm\n",
      "https://old.reddit.com/r/news/new.json?count=25&after=t3_cb0hws\n",
      "https://old.reddit.com/r/news/new.json?count=25&after=t3_carsar\n",
      "https://old.reddit.com/r/news/new.json\n",
      "https://old.reddit.com/r/news/new.json?count=25&after=t3_cc5k6x\n",
      "https://old.reddit.com/r/news/new.json?count=25&after=t3_cc2lew\n",
      "https://old.reddit.com/r/news/new.json?count=25&after=t3_cbz8mq\n",
      "https://old.reddit.com/r/news/new.json?count=25&after=t3_cbvs5j\n",
      "https://old.reddit.com/r/news/new.json?count=25&after=t3_cbmzk8\n",
      "https://old.reddit.com/r/news/new.json?count=25&after=t3_cbidx9\n",
      "https://old.reddit.com/r/news/new.json?count=25&after=t3_cbebnm\n",
      "https://old.reddit.com/r/news/new.json?count=25&after=t3_cb9e71\n",
      "https://old.reddit.com/r/news/new.json?count=25&after=t3_cb53wm\n",
      "https://old.reddit.com/r/news/new.json?count=25&after=t3_cb0hws\n",
      "https://old.reddit.com/r/news/new.json?count=25&after=t3_carsar\n"
     ]
    }
   ],
   "source": [
    "# r/news new\n",
    "news = sub_query('news', sub_new, news)"
   ]
  },
  {
   "cell_type": "code",
   "execution_count": 9,
   "metadata": {},
   "outputs": [
    {
     "name": "stdout",
     "output_type": "stream",
     "text": [
      "https://old.reddit.com/r/theonion/top.json?t=all\n",
      "https://old.reddit.com/r/theonion/top.json?t=all&after=t3_8y0ob1\n",
      "https://old.reddit.com/r/theonion/top.json?t=all&after=t3_a3qyte\n",
      "https://old.reddit.com/r/theonion/top.json?t=all&after=t3_b9ekqj\n",
      "https://old.reddit.com/r/theonion/top.json?t=all&after=t3_bo676d\n",
      "https://old.reddit.com/r/theonion/top.json?t=all&after=t3_aqp4sb\n",
      "https://old.reddit.com/r/theonion/top.json?t=all&after=t3_airdvw\n",
      "https://old.reddit.com/r/theonion/top.json?t=all&after=t3_9r2707\n",
      "https://old.reddit.com/r/theonion/top.json?t=all&after=t3_b3by5b\n",
      "https://old.reddit.com/r/theonion/top.json?t=all&after=t3_9f8m59\n",
      "https://old.reddit.com/r/theonion/top.json?t=all&after=t3_av1jt0\n",
      "https://old.reddit.com/r/theonion/top.json?t=all&after=t3_9xo00e\n",
      "https://old.reddit.com/r/theonion/top.json?t=all&after=t3_alilh7\n",
      "https://old.reddit.com/r/theonion/top.json?t=all&after=t3_9hrc6t\n",
      "https://old.reddit.com/r/theonion/top.json?t=all&after=t3_aqxwzy\n",
      "https://old.reddit.com/r/theonion/top.json?t=all&after=t3_c7sydx\n",
      "https://old.reddit.com/r/theonion/top.json?t=all&after=t3_742zlf\n",
      "https://old.reddit.com/r/theonion/top.json?t=all&after=t3_a9f97q\n",
      "https://old.reddit.com/r/theonion/top.json?t=all&after=t3_cafx8h\n",
      "https://old.reddit.com/r/theonion/top.json?t=all&after=t3_823an0\n",
      "https://old.reddit.com/r/theonion/top.json?t=all&after=t3_53f2zl\n",
      "https://old.reddit.com/r/theonion/top.json?t=all&after=t3_77gkbr\n",
      "https://old.reddit.com/r/theonion/top.json?t=all&after=t3_730o2f\n",
      "https://old.reddit.com/r/theonion/top.json?t=all&after=t3_787a7h\n",
      "https://old.reddit.com/r/theonion/top.json?t=all&after=t3_6ryzzt\n",
      "https://old.reddit.com/r/theonion/top.json?t=all&after=t3_53zj9c\n",
      "https://old.reddit.com/r/theonion/top.json?t=all&after=t3_7bdzei\n",
      "https://old.reddit.com/r/theonion/top.json?t=all&after=t3_7k6pza\n",
      "https://old.reddit.com/r/theonion/top.json?t=all&after=t3_43l3xt\n",
      "https://old.reddit.com/r/theonion/top.json?t=all&after=t3_5tgbc5\n",
      "https://old.reddit.com/r/theonion/top.json?t=all&after=t3_5n4r55\n",
      "https://old.reddit.com/r/theonion/top.json?t=all&after=t3_6ktz7e\n",
      "https://old.reddit.com/r/theonion/top.json?t=all&after=t3_4fusva\n",
      "https://old.reddit.com/r/theonion/top.json?t=all&after=t3_84ez46\n",
      "https://old.reddit.com/r/theonion/top.json?t=all&after=t3_57yi0m\n",
      "https://old.reddit.com/r/theonion/top.json?t=all&after=t3_c1osvy\n",
      "https://old.reddit.com/r/theonion/top.json?t=all&after=t3_6rq8up\n",
      "https://old.reddit.com/r/theonion/top.json?t=all&after=t3_6y7y79\n",
      "https://old.reddit.com/r/theonion/top.json?t=all&after=t3_achja0\n",
      "https://old.reddit.com/r/theonion/top.json?t=all&after=t3_3y2hg0\n",
      "https://old.reddit.com/r/theonion/top.json?t=all\n",
      "https://old.reddit.com/r/theonion/top.json?t=all&after=t3_8y0ob1\n",
      "https://old.reddit.com/r/theonion/top.json?t=all&after=t3_a3qyte\n",
      "https://old.reddit.com/r/theonion/top.json?t=all&after=t3_b9ekqj\n",
      "https://old.reddit.com/r/theonion/top.json?t=all&after=t3_bo676d\n",
      "https://old.reddit.com/r/theonion/top.json?t=all&after=t3_aqp4sb\n",
      "https://old.reddit.com/r/theonion/top.json?t=all&after=t3_airdvw\n",
      "https://old.reddit.com/r/theonion/top.json?t=all&after=t3_9r2707\n",
      "https://old.reddit.com/r/theonion/top.json?t=all&after=t3_b3by5b\n",
      "https://old.reddit.com/r/theonion/top.json?t=all&after=t3_9f8m59\n",
      "https://old.reddit.com/r/theonion/top.json?t=all&after=t3_av1jt0\n",
      "https://old.reddit.com/r/theonion/top.json?t=all&after=t3_9xo00e\n",
      "https://old.reddit.com/r/theonion/top.json?t=all&after=t3_alilh7\n",
      "https://old.reddit.com/r/theonion/top.json?t=all&after=t3_9hrc6t\n",
      "https://old.reddit.com/r/theonion/top.json?t=all&after=t3_aqxwzy\n",
      "https://old.reddit.com/r/theonion/top.json?t=all&after=t3_c7sydx\n",
      "https://old.reddit.com/r/theonion/top.json?t=all&after=t3_742zlf\n",
      "https://old.reddit.com/r/theonion/top.json?t=all&after=t3_a9f97q\n",
      "https://old.reddit.com/r/theonion/top.json?t=all&after=t3_cafx8h\n",
      "https://old.reddit.com/r/theonion/top.json?t=all&after=t3_823an0\n"
     ]
    }
   ],
   "source": [
    "theO = sub_query('theonion', sub_all)"
   ]
  },
  {
   "cell_type": "code",
   "execution_count": 10,
   "metadata": {},
   "outputs": [
    {
     "name": "stdout",
     "output_type": "stream",
     "text": [
      "https://old.reddit.com/r/theonion.json\n",
      "https://old.reddit.com/r/theonion.json?count=25&after=t3_c7sydx\n",
      "https://old.reddit.com/r/theonion.json?count=25&after=t3_c5tuut\n",
      "https://old.reddit.com/r/theonion.json?count=25&after=t3_c3eh8m\n",
      "https://old.reddit.com/r/theonion.json?count=25&after=t3_c2jiw8\n",
      "https://old.reddit.com/r/theonion.json?count=25&after=t3_c1etej\n",
      "https://old.reddit.com/r/theonion.json?count=25&after=t3_c07iud\n",
      "https://old.reddit.com/r/theonion.json?count=25&after=t3_bzfjqi\n",
      "https://old.reddit.com/r/theonion.json?count=25&after=t3_bxxnp2\n",
      "https://old.reddit.com/r/theonion.json?count=25&after=t3_bx557x\n",
      "https://old.reddit.com/r/theonion.json?count=25&after=t3_bvlled\n",
      "https://old.reddit.com/r/theonion.json?count=25&after=t3_butqeo\n",
      "https://old.reddit.com/r/theonion.json?count=25&after=t3_btrf66\n",
      "https://old.reddit.com/r/theonion.json?count=25&after=t3_bs6yfs\n",
      "https://old.reddit.com/r/theonion.json?count=25&after=t3_bqyd4x\n",
      "https://old.reddit.com/r/theonion.json?count=25&after=t3_bqjb9f\n",
      "https://old.reddit.com/r/theonion.json?count=25&after=t3_bpf2yj\n",
      "https://old.reddit.com/r/theonion.json?count=25&after=t3_bokysi\n",
      "https://old.reddit.com/r/theonion.json?count=25&after=t3_bn2acz\n",
      "https://old.reddit.com/r/theonion.json?count=25&after=t3_bm9i6m\n",
      "https://old.reddit.com/r/theonion.json?count=25&after=t3_blt4ff\n",
      "https://old.reddit.com/r/theonion.json?count=25&after=t3_bkaws9\n",
      "https://old.reddit.com/r/theonion.json?count=25&after=t3_bjheu7\n",
      "https://old.reddit.com/r/theonion.json?count=25&after=t3_biw2uh\n",
      "https://old.reddit.com/r/theonion.json?count=25&after=t3_bhnmdi\n",
      "https://old.reddit.com/r/theonion.json?count=25&after=t3_bh0ax9\n",
      "https://old.reddit.com/r/theonion.json?count=25&after=t3_bg0l2d\n",
      "https://old.reddit.com/r/theonion.json?count=25&after=t3_bf2sfr\n",
      "https://old.reddit.com/r/theonion.json?count=25&after=t3_bekxmm\n",
      "https://old.reddit.com/r/theonion.json?count=25&after=t3_bducf4\n",
      "https://old.reddit.com/r/theonion.json?count=25&after=t3_bcezsc\n",
      "https://old.reddit.com/r/theonion.json?count=25&after=t3_bbdrf7\n",
      "https://old.reddit.com/r/theonion.json?count=25&after=t3_baz1go\n",
      "https://old.reddit.com/r/theonion.json?count=25&after=t3_b9npy4\n",
      "https://old.reddit.com/r/theonion.json?count=25&after=t3_b8l794\n",
      "https://old.reddit.com/r/theonion.json?count=25&after=t3_b7ibfj\n",
      "https://old.reddit.com/r/theonion.json?count=25&after=t3_b6kefg\n",
      "https://old.reddit.com/r/theonion.json?count=25&after=t3_b5gwtm\n",
      "https://old.reddit.com/r/theonion.json?count=25&after=t3_b3sbcq\n",
      "https://old.reddit.com/r/theonion.json\n",
      "https://old.reddit.com/r/theonion.json?count=25&after=t3_c7sydx\n",
      "https://old.reddit.com/r/theonion.json?count=25&after=t3_c5tuut\n",
      "https://old.reddit.com/r/theonion.json?count=25&after=t3_c3eh8m\n",
      "https://old.reddit.com/r/theonion.json?count=25&after=t3_c2jiw8\n",
      "https://old.reddit.com/r/theonion.json?count=25&after=t3_c1etej\n",
      "https://old.reddit.com/r/theonion.json?count=25&after=t3_c07iud\n",
      "https://old.reddit.com/r/theonion.json?count=25&after=t3_bzfjqi\n",
      "https://old.reddit.com/r/theonion.json?count=25&after=t3_bxxnp2\n",
      "https://old.reddit.com/r/theonion.json?count=25&after=t3_bx557x\n",
      "https://old.reddit.com/r/theonion.json?count=25&after=t3_bvlled\n",
      "https://old.reddit.com/r/theonion.json?count=25&after=t3_butqeo\n",
      "https://old.reddit.com/r/theonion.json?count=25&after=t3_btrf66\n",
      "https://old.reddit.com/r/theonion.json?count=25&after=t3_bs6yfs\n",
      "https://old.reddit.com/r/theonion.json?count=25&after=t3_bqyd4x\n",
      "https://old.reddit.com/r/theonion.json?count=25&after=t3_bqjb9f\n",
      "https://old.reddit.com/r/theonion.json?count=25&after=t3_bpf2yj\n",
      "https://old.reddit.com/r/theonion.json?count=25&after=t3_bokysi\n",
      "https://old.reddit.com/r/theonion.json?count=25&after=t3_bn2acz\n",
      "https://old.reddit.com/r/theonion.json?count=25&after=t3_bm9i6m\n",
      "https://old.reddit.com/r/theonion.json?count=25&after=t3_blt4ff\n"
     ]
    }
   ],
   "source": [
    "theO = sub_query('theonion', sub_hot, theO)"
   ]
  },
  {
   "cell_type": "code",
   "execution_count": 11,
   "metadata": {},
   "outputs": [
    {
     "name": "stdout",
     "output_type": "stream",
     "text": [
      "https://old.reddit.com/r/theonion/new.json\n",
      "https://old.reddit.com/r/theonion/new.json?count=25&after=t3_c80d79\n",
      "https://old.reddit.com/r/theonion/new.json?count=25&after=t3_c5rqxz\n",
      "https://old.reddit.com/r/theonion/new.json?count=25&after=t3_c3di33\n",
      "https://old.reddit.com/r/theonion/new.json?count=25&after=t3_c2jaab\n",
      "https://old.reddit.com/r/theonion/new.json?count=25&after=t3_c15ttr\n",
      "https://old.reddit.com/r/theonion/new.json?count=25&after=t3_c0799s\n",
      "https://old.reddit.com/r/theonion/new.json?count=25&after=t3_bzdxx6\n",
      "https://old.reddit.com/r/theonion/new.json?count=25&after=t3_bxwhjf\n",
      "https://old.reddit.com/r/theonion/new.json?count=25&after=t3_bwu2md\n",
      "https://old.reddit.com/r/theonion/new.json?count=25&after=t3_bveamj\n",
      "https://old.reddit.com/r/theonion/new.json?count=25&after=t3_buk2d6\n",
      "https://old.reddit.com/r/theonion/new.json?count=25&after=t3_btngbz\n",
      "https://old.reddit.com/r/theonion/new.json?count=25&after=t3_bs6yfs\n",
      "https://old.reddit.com/r/theonion/new.json?count=25&after=t3_brcwg6\n",
      "https://old.reddit.com/r/theonion/new.json?count=25&after=t3_bqxanr\n",
      "https://old.reddit.com/r/theonion/new.json?count=25&after=t3_bp2w2h\n",
      "https://old.reddit.com/r/theonion/new.json?count=25&after=t3_boljwn\n",
      "https://old.reddit.com/r/theonion/new.json?count=25&after=t3_bn0vtl\n",
      "https://old.reddit.com/r/theonion/new.json?count=25&after=t3_bm9i6m\n",
      "https://old.reddit.com/r/theonion/new.json?count=25&after=t3_blubz3\n",
      "https://old.reddit.com/r/theonion/new.json?count=25&after=t3_bkcufg\n",
      "https://old.reddit.com/r/theonion/new.json?count=25&after=t3_bjtlu7\n",
      "https://old.reddit.com/r/theonion/new.json?count=25&after=t3_biuds1\n",
      "https://old.reddit.com/r/theonion/new.json?count=25&after=t3_bhltmk\n",
      "https://old.reddit.com/r/theonion/new.json?count=25&after=t3_bgxjqz\n",
      "https://old.reddit.com/r/theonion/new.json?count=25&after=t3_bg7y6z\n",
      "https://old.reddit.com/r/theonion/new.json?count=25&after=t3_bf2sfr\n",
      "https://old.reddit.com/r/theonion/new.json?count=25&after=t3_bectu9\n",
      "https://old.reddit.com/r/theonion/new.json?count=25&after=t3_bdjk2r\n",
      "https://old.reddit.com/r/theonion/new.json?count=25&after=t3_bc7pxs\n",
      "https://old.reddit.com/r/theonion/new.json?count=25&after=t3_bbmf5y\n",
      "https://old.reddit.com/r/theonion/new.json?count=25&after=t3_bayyus\n",
      "https://old.reddit.com/r/theonion/new.json?count=25&after=t3_b9j0e5\n",
      "https://old.reddit.com/r/theonion/new.json?count=25&after=t3_b8n96k\n",
      "https://old.reddit.com/r/theonion/new.json?count=25&after=t3_b7ac2t\n",
      "https://old.reddit.com/r/theonion/new.json?count=25&after=t3_b6eg2q\n",
      "https://old.reddit.com/r/theonion/new.json?count=25&after=t3_b5dt9j\n",
      "https://old.reddit.com/r/theonion/new.json?count=25&after=t3_b3v8dz\n",
      "https://old.reddit.com/r/theonion/new.json?count=25&after=t3_b31o6c\n",
      "https://old.reddit.com/r/theonion/new.json\n",
      "https://old.reddit.com/r/theonion/new.json?count=25&after=t3_c80d79\n",
      "https://old.reddit.com/r/theonion/new.json?count=25&after=t3_c5rqxz\n",
      "https://old.reddit.com/r/theonion/new.json?count=25&after=t3_c3di33\n",
      "https://old.reddit.com/r/theonion/new.json?count=25&after=t3_c2jaab\n",
      "https://old.reddit.com/r/theonion/new.json?count=25&after=t3_c15ttr\n",
      "https://old.reddit.com/r/theonion/new.json?count=25&after=t3_c0799s\n",
      "https://old.reddit.com/r/theonion/new.json?count=25&after=t3_bzdxx6\n",
      "https://old.reddit.com/r/theonion/new.json?count=25&after=t3_bxwhjf\n",
      "https://old.reddit.com/r/theonion/new.json?count=25&after=t3_bwu2md\n",
      "https://old.reddit.com/r/theonion/new.json?count=25&after=t3_bveamj\n",
      "https://old.reddit.com/r/theonion/new.json?count=25&after=t3_buk2d6\n",
      "https://old.reddit.com/r/theonion/new.json?count=25&after=t3_btngbz\n",
      "https://old.reddit.com/r/theonion/new.json?count=25&after=t3_bs6yfs\n",
      "https://old.reddit.com/r/theonion/new.json?count=25&after=t3_brcwg6\n",
      "https://old.reddit.com/r/theonion/new.json?count=25&after=t3_bqxanr\n",
      "https://old.reddit.com/r/theonion/new.json?count=25&after=t3_bp2w2h\n",
      "https://old.reddit.com/r/theonion/new.json?count=25&after=t3_boljwn\n",
      "https://old.reddit.com/r/theonion/new.json?count=25&after=t3_bn0vtl\n",
      "https://old.reddit.com/r/theonion/new.json?count=25&after=t3_bm9i6m\n"
     ]
    }
   ],
   "source": [
    "theO = sub_query('theonion', sub_new, theO)"
   ]
  },
  {
   "cell_type": "code",
   "execution_count": 8,
   "metadata": {},
   "outputs": [],
   "source": [
    "# combines the posts in the subreddit\n",
    "def combine_text(posts):\n",
    "    return[' '.join([post['title'], post['selftext']]) for post in posts] # build this out to a function"
   ]
  },
  {
   "cell_type": "code",
   "execution_count": 14,
   "metadata": {},
   "outputs": [],
   "source": [
    "# combine all of news\n",
    "news_text = combine_text(news)"
   ]
  },
  {
   "cell_type": "code",
   "execution_count": 15,
   "metadata": {},
   "outputs": [],
   "source": [
    "# combine all theOnion\n",
    "theO_text = combine_text(theO)"
   ]
  },
  {
   "cell_type": "code",
   "execution_count": 16,
   "metadata": {},
   "outputs": [],
   "source": [
    "# set theOnion to 0\n",
    "news_df = pd.DataFrame(news_text, columns=['text'])\n",
    "news_df['is_theO']= 0"
   ]
  },
  {
   "cell_type": "code",
   "execution_count": 17,
   "metadata": {},
   "outputs": [],
   "source": [
    "# set \n",
    "theO_df = pd.DataFrame(theO_text, columns=['text'])\n",
    "theO_df['is_theO']= 1"
   ]
  },
  {
   "cell_type": "code",
   "execution_count": 18,
   "metadata": {},
   "outputs": [],
   "source": [
    "reddit = pd.concat([news_df, theO_df], ignore_index=True)"
   ]
  },
  {
   "cell_type": "code",
   "execution_count": 19,
   "metadata": {},
   "outputs": [
    {
     "data": {
      "text/plain": [
       "1    4487\n",
       "0    4406\n",
       "Name: is_theO, dtype: int64"
      ]
     },
     "execution_count": 19,
     "metadata": {},
     "output_type": "execute_result"
    }
   ],
   "source": [
    "reddit['is_theO'].value_counts()"
   ]
  },
  {
   "cell_type": "code",
   "execution_count": 20,
   "metadata": {},
   "outputs": [
    {
     "data": {
      "text/plain": [
       "(8893, 2)"
      ]
     },
     "execution_count": 20,
     "metadata": {},
     "output_type": "execute_result"
    }
   ],
   "source": [
    "reddit.shape"
   ]
  },
  {
   "cell_type": "code",
   "execution_count": 21,
   "metadata": {},
   "outputs": [],
   "source": [
    "reddit = reddit.drop_duplicates()"
   ]
  },
  {
   "cell_type": "code",
   "execution_count": 22,
   "metadata": {},
   "outputs": [
    {
     "data": {
      "text/plain": [
       "(3058, 2)"
      ]
     },
     "execution_count": 22,
     "metadata": {},
     "output_type": "execute_result"
    }
   ],
   "source": [
    "reddit.shape"
   ]
  },
  {
   "cell_type": "code",
   "execution_count": 23,
   "metadata": {},
   "outputs": [
    {
     "data": {
      "text/plain": [
       "1    0.580772\n",
       "0    0.419228\n",
       "Name: is_theO, dtype: float64"
      ]
     },
     "execution_count": 23,
     "metadata": {},
     "output_type": "execute_result"
    }
   ],
   "source": [
    "reddit['is_theO'].value_counts(normalize=True)"
   ]
  },
  {
   "cell_type": "code",
   "execution_count": 24,
   "metadata": {},
   "outputs": [],
   "source": [
    "reddit.to_csv('./datasets/reddit_5.csv', index=False)"
   ]
  },
  {
   "cell_type": "code",
   "execution_count": null,
   "metadata": {},
   "outputs": [],
   "source": []
  }
 ],
 "metadata": {
  "kernelspec": {
   "display_name": "Python 3",
   "language": "python",
   "name": "python3"
  },
  "language_info": {
   "codemirror_mode": {
    "name": "ipython",
    "version": 3
   },
   "file_extension": ".py",
   "mimetype": "text/x-python",
   "name": "python",
   "nbconvert_exporter": "python",
   "pygments_lexer": "ipython3",
   "version": "3.7.3"
  }
 },
 "nbformat": 4,
 "nbformat_minor": 2
}
